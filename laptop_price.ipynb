{
  "cells": [
    {
      "cell_type": "code",
      "execution_count": null,
      "id": "e9fd6206",
      "metadata": {
        "execution": {
          "iopub.execute_input": "2022-12-05T15:04:20.019623Z",
          "iopub.status.busy": "2022-12-05T15:04:20.019228Z",
          "iopub.status.idle": "2022-12-05T15:04:21.172245Z",
          "shell.execute_reply": "2022-12-05T15:04:21.170691Z"
        },
        "papermill": {
          "duration": 1.174927,
          "end_time": "2022-12-05T15:04:21.175045",
          "exception": false,
          "start_time": "2022-12-05T15:04:20.000118",
          "status": "completed"
        },
        "tags": [],
        "id": "e9fd6206"
      },
      "outputs": [],
      "source": [
        "import pandas as pd\n",
        "import numpy as np\n",
        "import seaborn  as sns\n",
        "import matplotlib.pyplot as plt"
      ]
    },
    {
      "cell_type": "code",
      "execution_count": null,
      "id": "33bc05e1",
      "metadata": {
        "execution": {
          "iopub.execute_input": "2022-12-05T15:04:21.212268Z",
          "iopub.status.busy": "2022-12-05T15:04:21.211693Z",
          "iopub.status.idle": "2022-12-05T15:04:21.262344Z",
          "shell.execute_reply": "2022-12-05T15:04:21.261130Z"
        },
        "papermill": {
          "duration": 0.072873,
          "end_time": "2022-12-05T15:04:21.265403",
          "exception": false,
          "start_time": "2022-12-05T15:04:21.192530",
          "status": "completed"
        },
        "tags": [],
        "id": "33bc05e1",
        "outputId": "54ca80ed-e83a-4d2a-96c5-31fadd4a1b3d",
        "colab": {
          "base_uri": "https://localhost:8080/",
          "height": 354
        }
      },
      "outputs": [
        {
          "output_type": "execute_result",
          "data": {
            "text/plain": [
              "      Unnamed: 0 Company            TypeName  Inches  \\\n",
              "834          834  Lenovo            Notebook    14.0   \n",
              "1270        1270  Lenovo  2 in 1 Convertible    14.0   \n",
              "258          258     MSI              Gaming    17.3   \n",
              "404          404     MSI              Gaming    17.3   \n",
              "545          545      HP            Notebook    15.6   \n",
              "\n",
              "                               ScreenResolution                          Cpu  \\\n",
              "834                 IPS Panel Full HD 1920x1080   Intel Core i5 7300U 2.6GHz   \n",
              "1270  IPS Panel Full HD / Touchscreen 1920x1080   Intel Core i7 6500U 2.5GHz   \n",
              "258                           Full HD 1920x1080  Intel Core i7 7700HQ 2.8GHz   \n",
              "404                           Full HD 1920x1080  Intel Core i7 7700HQ 2.8GHz   \n",
              "545                           Full HD 1920x1080   Intel Core i3 7100U 2.4GHz   \n",
              "\n",
              "       Ram                Memory                      Gpu       OpSys  Weight  \\\n",
              "834    8GB             256GB SSD    Intel HD Graphics 620  Windows 10  1.32kg   \n",
              "1270   4GB             128GB SSD    Intel HD Graphics 520  Windows 10   1.8kg   \n",
              "258   16GB  512GB SSD +  1TB HDD  Nvidia GeForce GTX 1070  Windows 10  4.14kg   \n",
              "404   16GB  256GB SSD +  1TB HDD  Nvidia GeForce GTX 1070  Windows 10   2.8kg   \n",
              "545    4GB             128GB SSD    Intel HD Graphics 620  Windows 10   2.1kg   \n",
              "\n",
              "          Price  \n",
              "834    87912.00  \n",
              "1270   33992.64  \n",
              "258   133146.72  \n",
              "404   119826.72  \n",
              "545    37589.04  "
            ],
            "text/html": [
              "\n",
              "  <div id=\"df-0830a457-d02c-4b09-8c72-86b21b5e2993\">\n",
              "    <div class=\"colab-df-container\">\n",
              "      <div>\n",
              "<style scoped>\n",
              "    .dataframe tbody tr th:only-of-type {\n",
              "        vertical-align: middle;\n",
              "    }\n",
              "\n",
              "    .dataframe tbody tr th {\n",
              "        vertical-align: top;\n",
              "    }\n",
              "\n",
              "    .dataframe thead th {\n",
              "        text-align: right;\n",
              "    }\n",
              "</style>\n",
              "<table border=\"1\" class=\"dataframe\">\n",
              "  <thead>\n",
              "    <tr style=\"text-align: right;\">\n",
              "      <th></th>\n",
              "      <th>Unnamed: 0</th>\n",
              "      <th>Company</th>\n",
              "      <th>TypeName</th>\n",
              "      <th>Inches</th>\n",
              "      <th>ScreenResolution</th>\n",
              "      <th>Cpu</th>\n",
              "      <th>Ram</th>\n",
              "      <th>Memory</th>\n",
              "      <th>Gpu</th>\n",
              "      <th>OpSys</th>\n",
              "      <th>Weight</th>\n",
              "      <th>Price</th>\n",
              "    </tr>\n",
              "  </thead>\n",
              "  <tbody>\n",
              "    <tr>\n",
              "      <th>834</th>\n",
              "      <td>834</td>\n",
              "      <td>Lenovo</td>\n",
              "      <td>Notebook</td>\n",
              "      <td>14.0</td>\n",
              "      <td>IPS Panel Full HD 1920x1080</td>\n",
              "      <td>Intel Core i5 7300U 2.6GHz</td>\n",
              "      <td>8GB</td>\n",
              "      <td>256GB SSD</td>\n",
              "      <td>Intel HD Graphics 620</td>\n",
              "      <td>Windows 10</td>\n",
              "      <td>1.32kg</td>\n",
              "      <td>87912.00</td>\n",
              "    </tr>\n",
              "    <tr>\n",
              "      <th>1270</th>\n",
              "      <td>1270</td>\n",
              "      <td>Lenovo</td>\n",
              "      <td>2 in 1 Convertible</td>\n",
              "      <td>14.0</td>\n",
              "      <td>IPS Panel Full HD / Touchscreen 1920x1080</td>\n",
              "      <td>Intel Core i7 6500U 2.5GHz</td>\n",
              "      <td>4GB</td>\n",
              "      <td>128GB SSD</td>\n",
              "      <td>Intel HD Graphics 520</td>\n",
              "      <td>Windows 10</td>\n",
              "      <td>1.8kg</td>\n",
              "      <td>33992.64</td>\n",
              "    </tr>\n",
              "    <tr>\n",
              "      <th>258</th>\n",
              "      <td>258</td>\n",
              "      <td>MSI</td>\n",
              "      <td>Gaming</td>\n",
              "      <td>17.3</td>\n",
              "      <td>Full HD 1920x1080</td>\n",
              "      <td>Intel Core i7 7700HQ 2.8GHz</td>\n",
              "      <td>16GB</td>\n",
              "      <td>512GB SSD +  1TB HDD</td>\n",
              "      <td>Nvidia GeForce GTX 1070</td>\n",
              "      <td>Windows 10</td>\n",
              "      <td>4.14kg</td>\n",
              "      <td>133146.72</td>\n",
              "    </tr>\n",
              "    <tr>\n",
              "      <th>404</th>\n",
              "      <td>404</td>\n",
              "      <td>MSI</td>\n",
              "      <td>Gaming</td>\n",
              "      <td>17.3</td>\n",
              "      <td>Full HD 1920x1080</td>\n",
              "      <td>Intel Core i7 7700HQ 2.8GHz</td>\n",
              "      <td>16GB</td>\n",
              "      <td>256GB SSD +  1TB HDD</td>\n",
              "      <td>Nvidia GeForce GTX 1070</td>\n",
              "      <td>Windows 10</td>\n",
              "      <td>2.8kg</td>\n",
              "      <td>119826.72</td>\n",
              "    </tr>\n",
              "    <tr>\n",
              "      <th>545</th>\n",
              "      <td>545</td>\n",
              "      <td>HP</td>\n",
              "      <td>Notebook</td>\n",
              "      <td>15.6</td>\n",
              "      <td>Full HD 1920x1080</td>\n",
              "      <td>Intel Core i3 7100U 2.4GHz</td>\n",
              "      <td>4GB</td>\n",
              "      <td>128GB SSD</td>\n",
              "      <td>Intel HD Graphics 620</td>\n",
              "      <td>Windows 10</td>\n",
              "      <td>2.1kg</td>\n",
              "      <td>37589.04</td>\n",
              "    </tr>\n",
              "  </tbody>\n",
              "</table>\n",
              "</div>\n",
              "      <button class=\"colab-df-convert\" onclick=\"convertToInteractive('df-0830a457-d02c-4b09-8c72-86b21b5e2993')\"\n",
              "              title=\"Convert this dataframe to an interactive table.\"\n",
              "              style=\"display:none;\">\n",
              "        \n",
              "  <svg xmlns=\"http://www.w3.org/2000/svg\" height=\"24px\"viewBox=\"0 0 24 24\"\n",
              "       width=\"24px\">\n",
              "    <path d=\"M0 0h24v24H0V0z\" fill=\"none\"/>\n",
              "    <path d=\"M18.56 5.44l.94 2.06.94-2.06 2.06-.94-2.06-.94-.94-2.06-.94 2.06-2.06.94zm-11 1L8.5 8.5l.94-2.06 2.06-.94-2.06-.94L8.5 2.5l-.94 2.06-2.06.94zm10 10l.94 2.06.94-2.06 2.06-.94-2.06-.94-.94-2.06-.94 2.06-2.06.94z\"/><path d=\"M17.41 7.96l-1.37-1.37c-.4-.4-.92-.59-1.43-.59-.52 0-1.04.2-1.43.59L10.3 9.45l-7.72 7.72c-.78.78-.78 2.05 0 2.83L4 21.41c.39.39.9.59 1.41.59.51 0 1.02-.2 1.41-.59l7.78-7.78 2.81-2.81c.8-.78.8-2.07 0-2.86zM5.41 20L4 18.59l7.72-7.72 1.47 1.35L5.41 20z\"/>\n",
              "  </svg>\n",
              "      </button>\n",
              "      \n",
              "  <style>\n",
              "    .colab-df-container {\n",
              "      display:flex;\n",
              "      flex-wrap:wrap;\n",
              "      gap: 12px;\n",
              "    }\n",
              "\n",
              "    .colab-df-convert {\n",
              "      background-color: #E8F0FE;\n",
              "      border: none;\n",
              "      border-radius: 50%;\n",
              "      cursor: pointer;\n",
              "      display: none;\n",
              "      fill: #1967D2;\n",
              "      height: 32px;\n",
              "      padding: 0 0 0 0;\n",
              "      width: 32px;\n",
              "    }\n",
              "\n",
              "    .colab-df-convert:hover {\n",
              "      background-color: #E2EBFA;\n",
              "      box-shadow: 0px 1px 2px rgba(60, 64, 67, 0.3), 0px 1px 3px 1px rgba(60, 64, 67, 0.15);\n",
              "      fill: #174EA6;\n",
              "    }\n",
              "\n",
              "    [theme=dark] .colab-df-convert {\n",
              "      background-color: #3B4455;\n",
              "      fill: #D2E3FC;\n",
              "    }\n",
              "\n",
              "    [theme=dark] .colab-df-convert:hover {\n",
              "      background-color: #434B5C;\n",
              "      box-shadow: 0px 1px 3px 1px rgba(0, 0, 0, 0.15);\n",
              "      filter: drop-shadow(0px 1px 2px rgba(0, 0, 0, 0.3));\n",
              "      fill: #FFFFFF;\n",
              "    }\n",
              "  </style>\n",
              "\n",
              "      <script>\n",
              "        const buttonEl =\n",
              "          document.querySelector('#df-0830a457-d02c-4b09-8c72-86b21b5e2993 button.colab-df-convert');\n",
              "        buttonEl.style.display =\n",
              "          google.colab.kernel.accessAllowed ? 'block' : 'none';\n",
              "\n",
              "        async function convertToInteractive(key) {\n",
              "          const element = document.querySelector('#df-0830a457-d02c-4b09-8c72-86b21b5e2993');\n",
              "          const dataTable =\n",
              "            await google.colab.kernel.invokeFunction('convertToInteractive',\n",
              "                                                     [key], {});\n",
              "          if (!dataTable) return;\n",
              "\n",
              "          const docLinkHtml = 'Like what you see? Visit the ' +\n",
              "            '<a target=\"_blank\" href=https://colab.research.google.com/notebooks/data_table.ipynb>data table notebook</a>'\n",
              "            + ' to learn more about interactive tables.';\n",
              "          element.innerHTML = '';\n",
              "          dataTable['output_type'] = 'display_data';\n",
              "          await google.colab.output.renderOutput(dataTable, element);\n",
              "          const docLink = document.createElement('div');\n",
              "          docLink.innerHTML = docLinkHtml;\n",
              "          element.appendChild(docLink);\n",
              "        }\n",
              "      </script>\n",
              "    </div>\n",
              "  </div>\n",
              "  "
            ]
          },
          "metadata": {},
          "execution_count": 72
        }
      ],
      "source": [
        "data = pd.read_csv('https://raw.githubusercontent.com/ebinjomonkottakal/laptop_price_prediction/main/laptop_data.csv')\n",
        "data.sample(5)"
      ]
    },
    {
      "cell_type": "code",
      "execution_count": null,
      "id": "93c7e585",
      "metadata": {
        "execution": {
          "iopub.execute_input": "2022-12-05T15:04:21.303449Z",
          "iopub.status.busy": "2022-12-05T15:04:21.302856Z",
          "iopub.status.idle": "2022-12-05T15:04:21.332974Z",
          "shell.execute_reply": "2022-12-05T15:04:21.331721Z"
        },
        "papermill": {
          "duration": 0.05168,
          "end_time": "2022-12-05T15:04:21.335004",
          "exception": false,
          "start_time": "2022-12-05T15:04:21.283324",
          "status": "completed"
        },
        "tags": [],
        "id": "93c7e585",
        "outputId": "86433942-b814-4aa8-c372-15d8ecb96cbf",
        "colab": {
          "base_uri": "https://localhost:8080/",
          "height": 300
        }
      },
      "outputs": [
        {
          "output_type": "execute_result",
          "data": {
            "text/plain": [
              "       Unnamed: 0       Inches          Price\n",
              "count  1303.00000  1303.000000    1303.000000\n",
              "mean    651.00000    15.017191   59870.042910\n",
              "std     376.28801     1.426304   37243.201786\n",
              "min       0.00000    10.100000    9270.720000\n",
              "25%     325.50000    14.000000   31914.720000\n",
              "50%     651.00000    15.600000   52054.560000\n",
              "75%     976.50000    15.600000   79274.246400\n",
              "max    1302.00000    18.400000  324954.720000"
            ],
            "text/html": [
              "\n",
              "  <div id=\"df-c211526f-27c7-46c8-8ef2-043e82f17fa1\">\n",
              "    <div class=\"colab-df-container\">\n",
              "      <div>\n",
              "<style scoped>\n",
              "    .dataframe tbody tr th:only-of-type {\n",
              "        vertical-align: middle;\n",
              "    }\n",
              "\n",
              "    .dataframe tbody tr th {\n",
              "        vertical-align: top;\n",
              "    }\n",
              "\n",
              "    .dataframe thead th {\n",
              "        text-align: right;\n",
              "    }\n",
              "</style>\n",
              "<table border=\"1\" class=\"dataframe\">\n",
              "  <thead>\n",
              "    <tr style=\"text-align: right;\">\n",
              "      <th></th>\n",
              "      <th>Unnamed: 0</th>\n",
              "      <th>Inches</th>\n",
              "      <th>Price</th>\n",
              "    </tr>\n",
              "  </thead>\n",
              "  <tbody>\n",
              "    <tr>\n",
              "      <th>count</th>\n",
              "      <td>1303.00000</td>\n",
              "      <td>1303.000000</td>\n",
              "      <td>1303.000000</td>\n",
              "    </tr>\n",
              "    <tr>\n",
              "      <th>mean</th>\n",
              "      <td>651.00000</td>\n",
              "      <td>15.017191</td>\n",
              "      <td>59870.042910</td>\n",
              "    </tr>\n",
              "    <tr>\n",
              "      <th>std</th>\n",
              "      <td>376.28801</td>\n",
              "      <td>1.426304</td>\n",
              "      <td>37243.201786</td>\n",
              "    </tr>\n",
              "    <tr>\n",
              "      <th>min</th>\n",
              "      <td>0.00000</td>\n",
              "      <td>10.100000</td>\n",
              "      <td>9270.720000</td>\n",
              "    </tr>\n",
              "    <tr>\n",
              "      <th>25%</th>\n",
              "      <td>325.50000</td>\n",
              "      <td>14.000000</td>\n",
              "      <td>31914.720000</td>\n",
              "    </tr>\n",
              "    <tr>\n",
              "      <th>50%</th>\n",
              "      <td>651.00000</td>\n",
              "      <td>15.600000</td>\n",
              "      <td>52054.560000</td>\n",
              "    </tr>\n",
              "    <tr>\n",
              "      <th>75%</th>\n",
              "      <td>976.50000</td>\n",
              "      <td>15.600000</td>\n",
              "      <td>79274.246400</td>\n",
              "    </tr>\n",
              "    <tr>\n",
              "      <th>max</th>\n",
              "      <td>1302.00000</td>\n",
              "      <td>18.400000</td>\n",
              "      <td>324954.720000</td>\n",
              "    </tr>\n",
              "  </tbody>\n",
              "</table>\n",
              "</div>\n",
              "      <button class=\"colab-df-convert\" onclick=\"convertToInteractive('df-c211526f-27c7-46c8-8ef2-043e82f17fa1')\"\n",
              "              title=\"Convert this dataframe to an interactive table.\"\n",
              "              style=\"display:none;\">\n",
              "        \n",
              "  <svg xmlns=\"http://www.w3.org/2000/svg\" height=\"24px\"viewBox=\"0 0 24 24\"\n",
              "       width=\"24px\">\n",
              "    <path d=\"M0 0h24v24H0V0z\" fill=\"none\"/>\n",
              "    <path d=\"M18.56 5.44l.94 2.06.94-2.06 2.06-.94-2.06-.94-.94-2.06-.94 2.06-2.06.94zm-11 1L8.5 8.5l.94-2.06 2.06-.94-2.06-.94L8.5 2.5l-.94 2.06-2.06.94zm10 10l.94 2.06.94-2.06 2.06-.94-2.06-.94-.94-2.06-.94 2.06-2.06.94z\"/><path d=\"M17.41 7.96l-1.37-1.37c-.4-.4-.92-.59-1.43-.59-.52 0-1.04.2-1.43.59L10.3 9.45l-7.72 7.72c-.78.78-.78 2.05 0 2.83L4 21.41c.39.39.9.59 1.41.59.51 0 1.02-.2 1.41-.59l7.78-7.78 2.81-2.81c.8-.78.8-2.07 0-2.86zM5.41 20L4 18.59l7.72-7.72 1.47 1.35L5.41 20z\"/>\n",
              "  </svg>\n",
              "      </button>\n",
              "      \n",
              "  <style>\n",
              "    .colab-df-container {\n",
              "      display:flex;\n",
              "      flex-wrap:wrap;\n",
              "      gap: 12px;\n",
              "    }\n",
              "\n",
              "    .colab-df-convert {\n",
              "      background-color: #E8F0FE;\n",
              "      border: none;\n",
              "      border-radius: 50%;\n",
              "      cursor: pointer;\n",
              "      display: none;\n",
              "      fill: #1967D2;\n",
              "      height: 32px;\n",
              "      padding: 0 0 0 0;\n",
              "      width: 32px;\n",
              "    }\n",
              "\n",
              "    .colab-df-convert:hover {\n",
              "      background-color: #E2EBFA;\n",
              "      box-shadow: 0px 1px 2px rgba(60, 64, 67, 0.3), 0px 1px 3px 1px rgba(60, 64, 67, 0.15);\n",
              "      fill: #174EA6;\n",
              "    }\n",
              "\n",
              "    [theme=dark] .colab-df-convert {\n",
              "      background-color: #3B4455;\n",
              "      fill: #D2E3FC;\n",
              "    }\n",
              "\n",
              "    [theme=dark] .colab-df-convert:hover {\n",
              "      background-color: #434B5C;\n",
              "      box-shadow: 0px 1px 3px 1px rgba(0, 0, 0, 0.15);\n",
              "      filter: drop-shadow(0px 1px 2px rgba(0, 0, 0, 0.3));\n",
              "      fill: #FFFFFF;\n",
              "    }\n",
              "  </style>\n",
              "\n",
              "      <script>\n",
              "        const buttonEl =\n",
              "          document.querySelector('#df-c211526f-27c7-46c8-8ef2-043e82f17fa1 button.colab-df-convert');\n",
              "        buttonEl.style.display =\n",
              "          google.colab.kernel.accessAllowed ? 'block' : 'none';\n",
              "\n",
              "        async function convertToInteractive(key) {\n",
              "          const element = document.querySelector('#df-c211526f-27c7-46c8-8ef2-043e82f17fa1');\n",
              "          const dataTable =\n",
              "            await google.colab.kernel.invokeFunction('convertToInteractive',\n",
              "                                                     [key], {});\n",
              "          if (!dataTable) return;\n",
              "\n",
              "          const docLinkHtml = 'Like what you see? Visit the ' +\n",
              "            '<a target=\"_blank\" href=https://colab.research.google.com/notebooks/data_table.ipynb>data table notebook</a>'\n",
              "            + ' to learn more about interactive tables.';\n",
              "          element.innerHTML = '';\n",
              "          dataTable['output_type'] = 'display_data';\n",
              "          await google.colab.output.renderOutput(dataTable, element);\n",
              "          const docLink = document.createElement('div');\n",
              "          docLink.innerHTML = docLinkHtml;\n",
              "          element.appendChild(docLink);\n",
              "        }\n",
              "      </script>\n",
              "    </div>\n",
              "  </div>\n",
              "  "
            ]
          },
          "metadata": {},
          "execution_count": 73
        }
      ],
      "source": [
        "data.describe()"
      ]
    },
    {
      "cell_type": "code",
      "execution_count": null,
      "id": "9951a5a3",
      "metadata": {
        "execution": {
          "iopub.execute_input": "2022-12-05T15:04:21.372072Z",
          "iopub.status.busy": "2022-12-05T15:04:21.371693Z",
          "iopub.status.idle": "2022-12-05T15:04:21.389717Z",
          "shell.execute_reply": "2022-12-05T15:04:21.387927Z"
        },
        "papermill": {
          "duration": 0.038773,
          "end_time": "2022-12-05T15:04:21.391675",
          "exception": false,
          "start_time": "2022-12-05T15:04:21.352902",
          "status": "completed"
        },
        "tags": [],
        "id": "9951a5a3",
        "outputId": "2cfc5ad7-d2ce-4db8-9ac5-7a25929f5c20",
        "colab": {
          "base_uri": "https://localhost:8080/"
        }
      },
      "outputs": [
        {
          "output_type": "stream",
          "name": "stdout",
          "text": [
            "<class 'pandas.core.frame.DataFrame'>\n",
            "RangeIndex: 1303 entries, 0 to 1302\n",
            "Data columns (total 12 columns):\n",
            " #   Column            Non-Null Count  Dtype  \n",
            "---  ------            --------------  -----  \n",
            " 0   Unnamed: 0        1303 non-null   int64  \n",
            " 1   Company           1303 non-null   object \n",
            " 2   TypeName          1303 non-null   object \n",
            " 3   Inches            1303 non-null   float64\n",
            " 4   ScreenResolution  1303 non-null   object \n",
            " 5   Cpu               1303 non-null   object \n",
            " 6   Ram               1303 non-null   object \n",
            " 7   Memory            1303 non-null   object \n",
            " 8   Gpu               1303 non-null   object \n",
            " 9   OpSys             1303 non-null   object \n",
            " 10  Weight            1303 non-null   object \n",
            " 11  Price             1303 non-null   float64\n",
            "dtypes: float64(2), int64(1), object(9)\n",
            "memory usage: 122.3+ KB\n"
          ]
        }
      ],
      "source": [
        "data.info()"
      ]
    },
    {
      "cell_type": "code",
      "execution_count": null,
      "id": "4d1e04d1",
      "metadata": {
        "execution": {
          "iopub.execute_input": "2022-12-05T15:04:21.429467Z",
          "iopub.status.busy": "2022-12-05T15:04:21.428900Z",
          "iopub.status.idle": "2022-12-05T15:04:21.446076Z",
          "shell.execute_reply": "2022-12-05T15:04:21.444475Z"
        },
        "papermill": {
          "duration": 0.038957,
          "end_time": "2022-12-05T15:04:21.448517",
          "exception": false,
          "start_time": "2022-12-05T15:04:21.409560",
          "status": "completed"
        },
        "tags": [],
        "id": "4d1e04d1",
        "outputId": "786ea5db-efb8-4879-9ce3-c8752ec33c01",
        "colab": {
          "base_uri": "https://localhost:8080/"
        }
      },
      "outputs": [
        {
          "output_type": "stream",
          "name": "stdout",
          "text": [
            "DUPLICATE VALUES: \n",
            "Empty DataFrame\n",
            "Columns: [Unnamed: 0, Company, TypeName, Inches, ScreenResolution, Cpu, Ram, Memory, Gpu, OpSys, Weight, Price]\n",
            "Index: []\n",
            "________________________________________\n",
            "NULL VALUES\n",
            "Unnamed: 0          0\n",
            "Company             0\n",
            "TypeName            0\n",
            "Inches              0\n",
            "ScreenResolution    0\n",
            "Cpu                 0\n",
            "Ram                 0\n",
            "Memory              0\n",
            "Gpu                 0\n",
            "OpSys               0\n",
            "Weight              0\n",
            "Price               0\n",
            "dtype: int64\n"
          ]
        }
      ],
      "source": [
        "print('DUPLICATE VALUES: ')\n",
        "print(data[data.duplicated()])\n",
        "print('_'*40)\n",
        "print('NULL VALUES')\n",
        "print(data.isna().sum())"
      ]
    },
    {
      "cell_type": "code",
      "execution_count": null,
      "id": "b7dffcdb",
      "metadata": {
        "execution": {
          "iopub.execute_input": "2022-12-05T15:04:21.486665Z",
          "iopub.status.busy": "2022-12-05T15:04:21.486063Z",
          "iopub.status.idle": "2022-12-05T15:04:21.507434Z",
          "shell.execute_reply": "2022-12-05T15:04:21.505277Z"
        },
        "papermill": {
          "duration": 0.042966,
          "end_time": "2022-12-05T15:04:21.509804",
          "exception": false,
          "start_time": "2022-12-05T15:04:21.466838",
          "status": "completed"
        },
        "tags": [],
        "id": "b7dffcdb",
        "outputId": "7bf01ee9-a9c8-49a6-8b52-5f447fc833ee",
        "colab": {
          "base_uri": "https://localhost:8080/"
        }
      },
      "outputs": [
        {
          "output_type": "stream",
          "name": "stdout",
          "text": [
            "-------Unnamed: 0-------\n",
            "0       1\n",
            "856     1\n",
            "874     1\n",
            "873     1\n",
            "872     1\n",
            "       ..\n",
            "433     1\n",
            "432     1\n",
            "431     1\n",
            "430     1\n",
            "1302    1\n",
            "Name: Unnamed: 0, Length: 1303, dtype: int64\n",
            "________________________________________________________________________________\n",
            "-------Company-------\n",
            "Dell         297\n",
            "Lenovo       297\n",
            "HP           274\n",
            "Asus         158\n",
            "Acer         103\n",
            "MSI           54\n",
            "Toshiba       48\n",
            "Apple         21\n",
            "Samsung        9\n",
            "Razer          7\n",
            "Mediacom       7\n",
            "Microsoft      6\n",
            "Xiaomi         4\n",
            "Vero           4\n",
            "Chuwi          3\n",
            "Google         3\n",
            "Fujitsu        3\n",
            "LG             3\n",
            "Huawei         2\n",
            "Name: Company, dtype: int64\n",
            "________________________________________________________________________________\n",
            "-------TypeName-------\n",
            "Notebook              727\n",
            "Gaming                205\n",
            "Ultrabook             196\n",
            "2 in 1 Convertible    121\n",
            "Workstation            29\n",
            "Netbook                25\n",
            "Name: TypeName, dtype: int64\n",
            "________________________________________________________________________________\n",
            "-------Inches-------\n",
            "15.6    665\n",
            "14.0    197\n",
            "13.3    164\n",
            "17.3    164\n",
            "12.5     39\n",
            "11.6     33\n",
            "12.0      6\n",
            "13.5      6\n",
            "13.9      6\n",
            "12.3      5\n",
            "10.1      4\n",
            "15.4      4\n",
            "15.0      4\n",
            "13.0      2\n",
            "18.4      1\n",
            "17.0      1\n",
            "14.1      1\n",
            "11.3      1\n",
            "Name: Inches, dtype: int64\n",
            "________________________________________________________________________________\n",
            "-------ScreenResolution-------\n",
            "Full HD 1920x1080                                507\n",
            "1366x768                                         281\n",
            "IPS Panel Full HD 1920x1080                      230\n",
            "IPS Panel Full HD / Touchscreen 1920x1080         53\n",
            "Full HD / Touchscreen 1920x1080                   47\n",
            "1600x900                                          23\n",
            "Touchscreen 1366x768                              16\n",
            "Quad HD+ / Touchscreen 3200x1800                  15\n",
            "IPS Panel 4K Ultra HD 3840x2160                   12\n",
            "IPS Panel 4K Ultra HD / Touchscreen 3840x2160     11\n",
            "4K Ultra HD / Touchscreen 3840x2160               10\n",
            "4K Ultra HD 3840x2160                              7\n",
            "Touchscreen 2560x1440                              7\n",
            "IPS Panel 1366x768                                 7\n",
            "IPS Panel Quad HD+ / Touchscreen 3200x1800         6\n",
            "IPS Panel Retina Display 2560x1600                 6\n",
            "IPS Panel Retina Display 2304x1440                 6\n",
            "Touchscreen 2256x1504                              6\n",
            "IPS Panel Touchscreen 2560x1440                    5\n",
            "IPS Panel Retina Display 2880x1800                 4\n",
            "IPS Panel Touchscreen 1920x1200                    4\n",
            "1440x900                                           4\n",
            "IPS Panel 2560x1440                                4\n",
            "IPS Panel Quad HD+ 2560x1440                       3\n",
            "Quad HD+ 3200x1800                                 3\n",
            "1920x1080                                          3\n",
            "Touchscreen 2400x1600                              3\n",
            "2560x1440                                          3\n",
            "IPS Panel Touchscreen 1366x768                     3\n",
            "IPS Panel Touchscreen / 4K Ultra HD 3840x2160      2\n",
            "IPS Panel Full HD 2160x1440                        2\n",
            "IPS Panel Quad HD+ 3200x1800                       2\n",
            "IPS Panel Retina Display 2736x1824                 1\n",
            "IPS Panel Full HD 1920x1200                        1\n",
            "IPS Panel Full HD 2560x1440                        1\n",
            "IPS Panel Full HD 1366x768                         1\n",
            "Touchscreen / Full HD 1920x1080                    1\n",
            "Touchscreen / Quad HD+ 3200x1800                   1\n",
            "Touchscreen / 4K Ultra HD 3840x2160                1\n",
            "IPS Panel Touchscreen 2400x1600                    1\n",
            "Name: ScreenResolution, dtype: int64\n",
            "________________________________________________________________________________\n",
            "-------Cpu-------\n",
            "Intel Core i5 7200U 2.5GHz       190\n",
            "Intel Core i7 7700HQ 2.8GHz      146\n",
            "Intel Core i7 7500U 2.7GHz       134\n",
            "Intel Core i7 8550U 1.8GHz        73\n",
            "Intel Core i5 8250U 1.6GHz        72\n",
            "                                ... \n",
            "Intel Core M M3-6Y30 0.9GHz        1\n",
            "AMD A9-Series 9420 2.9GHz          1\n",
            "Intel Core i3 6006U 2.2GHz         1\n",
            "AMD A6-Series 7310 2GHz            1\n",
            "Intel Xeon E3-1535M v6 3.1GHz      1\n",
            "Name: Cpu, Length: 118, dtype: int64\n",
            "________________________________________________________________________________\n",
            "-------Ram-------\n",
            "8GB     619\n",
            "4GB     375\n",
            "16GB    200\n",
            "6GB      41\n",
            "12GB     25\n",
            "2GB      22\n",
            "32GB     17\n",
            "24GB      3\n",
            "64GB      1\n",
            "Name: Ram, dtype: int64\n",
            "________________________________________________________________________________\n",
            "-------Memory-------\n",
            "256GB SSD                        412\n",
            "1TB HDD                          223\n",
            "500GB HDD                        132\n",
            "512GB SSD                        118\n",
            "128GB SSD +  1TB HDD              94\n",
            "128GB SSD                         76\n",
            "256GB SSD +  1TB HDD              73\n",
            "32GB Flash Storage                38\n",
            "2TB HDD                           16\n",
            "64GB Flash Storage                15\n",
            "512GB SSD +  1TB HDD              14\n",
            "1TB SSD                           14\n",
            "256GB SSD +  2TB HDD              10\n",
            "1.0TB Hybrid                       9\n",
            "256GB Flash Storage                8\n",
            "16GB Flash Storage                 7\n",
            "32GB SSD                           6\n",
            "180GB SSD                          5\n",
            "128GB Flash Storage                4\n",
            "512GB SSD +  2TB HDD               3\n",
            "16GB SSD                           3\n",
            "512GB Flash Storage                2\n",
            "1TB SSD +  1TB HDD                 2\n",
            "256GB SSD +  500GB HDD             2\n",
            "128GB SSD +  2TB HDD               2\n",
            "256GB SSD +  256GB SSD             2\n",
            "512GB SSD +  256GB SSD             1\n",
            "512GB SSD +  512GB SSD             1\n",
            "64GB Flash Storage +  1TB HDD      1\n",
            "1TB HDD +  1TB HDD                 1\n",
            "32GB HDD                           1\n",
            "64GB SSD                           1\n",
            "128GB HDD                          1\n",
            "240GB SSD                          1\n",
            "8GB SSD                            1\n",
            "508GB Hybrid                       1\n",
            "1.0TB HDD                          1\n",
            "512GB SSD +  1.0TB Hybrid          1\n",
            "256GB SSD +  1.0TB Hybrid          1\n",
            "Name: Memory, dtype: int64\n",
            "________________________________________________________________________________\n",
            "-------Gpu-------\n",
            "Intel HD Graphics 620      281\n",
            "Intel HD Graphics 520      185\n",
            "Intel UHD Graphics 620      68\n",
            "Nvidia GeForce GTX 1050     66\n",
            "Nvidia GeForce GTX 1060     48\n",
            "                          ... \n",
            "AMD Radeon R5 520            1\n",
            "AMD Radeon R7                1\n",
            "Intel HD Graphics 540        1\n",
            "AMD Radeon 540               1\n",
            "ARM Mali T860 MP4            1\n",
            "Name: Gpu, Length: 110, dtype: int64\n",
            "________________________________________________________________________________\n",
            "-------OpSys-------\n",
            "Windows 10      1072\n",
            "No OS             66\n",
            "Linux             62\n",
            "Windows 7         45\n",
            "Chrome OS         27\n",
            "macOS             13\n",
            "Mac OS X           8\n",
            "Windows 10 S       8\n",
            "Android            2\n",
            "Name: OpSys, dtype: int64\n",
            "________________________________________________________________________________\n",
            "-------Weight-------\n",
            "2.2kg     121\n",
            "2.1kg      58\n",
            "2.4kg      44\n",
            "2.3kg      41\n",
            "2.5kg      38\n",
            "         ... \n",
            "3.25kg      1\n",
            "4.7kg       1\n",
            "1.55kg      1\n",
            "1.18kg      1\n",
            "4.0kg       1\n",
            "Name: Weight, Length: 179, dtype: int64\n",
            "________________________________________________________________________________\n",
            "-------Price-------\n",
            "79866.72     14\n",
            "58554.72     14\n",
            "95850.72     14\n",
            "47898.72     11\n",
            "63882.72     11\n",
            "             ..\n",
            "111355.20     1\n",
            "16197.12      1\n",
            "40439.52      1\n",
            "98994.24      1\n",
            "143802.72     1\n",
            "Name: Price, Length: 791, dtype: int64\n",
            "________________________________________________________________________________\n"
          ]
        }
      ],
      "source": [
        "for col in data.columns:\n",
        "    print('-------'+col+'-------')\n",
        "    print(data[col].value_counts())\n",
        "    print('_'*80)"
      ]
    },
    {
      "cell_type": "markdown",
      "id": "74b039bf",
      "metadata": {
        "papermill": {
          "duration": 0.018052,
          "end_time": "2022-12-05T15:04:21.546254",
          "exception": false,
          "start_time": "2022-12-05T15:04:21.528202",
          "status": "completed"
        },
        "tags": [],
        "id": "74b039bf"
      },
      "source": [
        "# EXPLORATORY DATA ANALYSIS"
      ]
    },
    {
      "cell_type": "code",
      "execution_count": null,
      "id": "5b83ffbf",
      "metadata": {
        "execution": {
          "iopub.execute_input": "2022-12-05T15:04:21.584001Z",
          "iopub.status.busy": "2022-12-05T15:04:21.583611Z",
          "iopub.status.idle": "2022-12-05T15:04:21.590411Z",
          "shell.execute_reply": "2022-12-05T15:04:21.589215Z"
        },
        "papermill": {
          "duration": 0.028125,
          "end_time": "2022-12-05T15:04:21.592425",
          "exception": false,
          "start_time": "2022-12-05T15:04:21.564300",
          "status": "completed"
        },
        "tags": [],
        "id": "5b83ffbf"
      },
      "outputs": [],
      "source": [
        "data.drop(columns=['Unnamed: 0'],inplace = True)"
      ]
    },
    {
      "cell_type": "code",
      "execution_count": null,
      "id": "5cd583e3",
      "metadata": {
        "execution": {
          "iopub.execute_input": "2022-12-05T15:04:21.631169Z",
          "iopub.status.busy": "2022-12-05T15:04:21.630737Z",
          "iopub.status.idle": "2022-12-05T15:04:21.638626Z",
          "shell.execute_reply": "2022-12-05T15:04:21.637235Z"
        },
        "papermill": {
          "duration": 0.02957,
          "end_time": "2022-12-05T15:04:21.640584",
          "exception": false,
          "start_time": "2022-12-05T15:04:21.611014",
          "status": "completed"
        },
        "tags": [],
        "id": "5cd583e3",
        "outputId": "f54f05d0-aa38-42bb-8821-18909a8a22d6",
        "colab": {
          "base_uri": "https://localhost:8080/"
        }
      },
      "outputs": [
        {
          "output_type": "execute_result",
          "data": {
            "text/plain": [
              "Index(['Company', 'TypeName', 'Inches', 'ScreenResolution', 'Cpu', 'Ram',\n",
              "       'Memory', 'Gpu', 'OpSys', 'Weight', 'Price'],\n",
              "      dtype='object')"
            ]
          },
          "metadata": {},
          "execution_count": 78
        }
      ],
      "source": [
        "data.columns"
      ]
    },
    {
      "cell_type": "code",
      "execution_count": null,
      "id": "031ce345",
      "metadata": {
        "execution": {
          "iopub.execute_input": "2022-12-05T15:04:21.679014Z",
          "iopub.status.busy": "2022-12-05T15:04:21.678604Z",
          "iopub.status.idle": "2022-12-05T15:04:21.685549Z",
          "shell.execute_reply": "2022-12-05T15:04:21.684528Z"
        },
        "papermill": {
          "duration": 0.028979,
          "end_time": "2022-12-05T15:04:21.687983",
          "exception": false,
          "start_time": "2022-12-05T15:04:21.659004",
          "status": "completed"
        },
        "tags": [],
        "id": "031ce345"
      },
      "outputs": [],
      "source": [
        "#QUANTITATIVE FEATURES\n",
        "quantitative = data[['Weight','Price','Gpu','Cpu']]\n",
        "#QUALITATIVE FEATURES\n",
        "qualitative = data[['Company','Ram','Memory','OpSys','ScreenResolution','Inches','TypeName']]"
      ]
    },
    {
      "cell_type": "markdown",
      "id": "3040aeb9",
      "metadata": {
        "papermill": {
          "duration": 0.018121,
          "end_time": "2022-12-05T15:04:21.724820",
          "exception": false,
          "start_time": "2022-12-05T15:04:21.706699",
          "status": "completed"
        },
        "tags": [],
        "id": "3040aeb9"
      },
      "source": [
        "**QUALITATIVE FEATURES**"
      ]
    },
    {
      "cell_type": "code",
      "execution_count": null,
      "id": "4eea8068",
      "metadata": {
        "execution": {
          "iopub.execute_input": "2022-12-05T15:04:21.763846Z",
          "iopub.status.busy": "2022-12-05T15:04:21.763446Z",
          "iopub.status.idle": "2022-12-05T15:04:21.776777Z",
          "shell.execute_reply": "2022-12-05T15:04:21.775869Z"
        },
        "papermill": {
          "duration": 0.035535,
          "end_time": "2022-12-05T15:04:21.778540",
          "exception": false,
          "start_time": "2022-12-05T15:04:21.743005",
          "status": "completed"
        },
        "tags": [],
        "id": "4eea8068",
        "outputId": "49b4e23d-e08e-4a8a-9b29-a7fe17c07d58",
        "colab": {
          "base_uri": "https://localhost:8080/",
          "height": 206
        }
      },
      "outputs": [
        {
          "output_type": "execute_result",
          "data": {
            "text/plain": [
              "  Company   Ram               Memory  OpSys  \\\n",
              "0   Apple   8GB            128GB SSD  macOS   \n",
              "1   Apple   8GB  128GB Flash Storage  macOS   \n",
              "2      HP   8GB            256GB SSD  No OS   \n",
              "3   Apple  16GB            512GB SSD  macOS   \n",
              "4   Apple   8GB            256GB SSD  macOS   \n",
              "\n",
              "                     ScreenResolution  Inches   TypeName  \n",
              "0  IPS Panel Retina Display 2560x1600    13.3  Ultrabook  \n",
              "1                            1440x900    13.3  Ultrabook  \n",
              "2                   Full HD 1920x1080    15.6   Notebook  \n",
              "3  IPS Panel Retina Display 2880x1800    15.4  Ultrabook  \n",
              "4  IPS Panel Retina Display 2560x1600    13.3  Ultrabook  "
            ],
            "text/html": [
              "\n",
              "  <div id=\"df-59901178-0e56-4cd4-9d84-2c7dd91e477d\">\n",
              "    <div class=\"colab-df-container\">\n",
              "      <div>\n",
              "<style scoped>\n",
              "    .dataframe tbody tr th:only-of-type {\n",
              "        vertical-align: middle;\n",
              "    }\n",
              "\n",
              "    .dataframe tbody tr th {\n",
              "        vertical-align: top;\n",
              "    }\n",
              "\n",
              "    .dataframe thead th {\n",
              "        text-align: right;\n",
              "    }\n",
              "</style>\n",
              "<table border=\"1\" class=\"dataframe\">\n",
              "  <thead>\n",
              "    <tr style=\"text-align: right;\">\n",
              "      <th></th>\n",
              "      <th>Company</th>\n",
              "      <th>Ram</th>\n",
              "      <th>Memory</th>\n",
              "      <th>OpSys</th>\n",
              "      <th>ScreenResolution</th>\n",
              "      <th>Inches</th>\n",
              "      <th>TypeName</th>\n",
              "    </tr>\n",
              "  </thead>\n",
              "  <tbody>\n",
              "    <tr>\n",
              "      <th>0</th>\n",
              "      <td>Apple</td>\n",
              "      <td>8GB</td>\n",
              "      <td>128GB SSD</td>\n",
              "      <td>macOS</td>\n",
              "      <td>IPS Panel Retina Display 2560x1600</td>\n",
              "      <td>13.3</td>\n",
              "      <td>Ultrabook</td>\n",
              "    </tr>\n",
              "    <tr>\n",
              "      <th>1</th>\n",
              "      <td>Apple</td>\n",
              "      <td>8GB</td>\n",
              "      <td>128GB Flash Storage</td>\n",
              "      <td>macOS</td>\n",
              "      <td>1440x900</td>\n",
              "      <td>13.3</td>\n",
              "      <td>Ultrabook</td>\n",
              "    </tr>\n",
              "    <tr>\n",
              "      <th>2</th>\n",
              "      <td>HP</td>\n",
              "      <td>8GB</td>\n",
              "      <td>256GB SSD</td>\n",
              "      <td>No OS</td>\n",
              "      <td>Full HD 1920x1080</td>\n",
              "      <td>15.6</td>\n",
              "      <td>Notebook</td>\n",
              "    </tr>\n",
              "    <tr>\n",
              "      <th>3</th>\n",
              "      <td>Apple</td>\n",
              "      <td>16GB</td>\n",
              "      <td>512GB SSD</td>\n",
              "      <td>macOS</td>\n",
              "      <td>IPS Panel Retina Display 2880x1800</td>\n",
              "      <td>15.4</td>\n",
              "      <td>Ultrabook</td>\n",
              "    </tr>\n",
              "    <tr>\n",
              "      <th>4</th>\n",
              "      <td>Apple</td>\n",
              "      <td>8GB</td>\n",
              "      <td>256GB SSD</td>\n",
              "      <td>macOS</td>\n",
              "      <td>IPS Panel Retina Display 2560x1600</td>\n",
              "      <td>13.3</td>\n",
              "      <td>Ultrabook</td>\n",
              "    </tr>\n",
              "  </tbody>\n",
              "</table>\n",
              "</div>\n",
              "      <button class=\"colab-df-convert\" onclick=\"convertToInteractive('df-59901178-0e56-4cd4-9d84-2c7dd91e477d')\"\n",
              "              title=\"Convert this dataframe to an interactive table.\"\n",
              "              style=\"display:none;\">\n",
              "        \n",
              "  <svg xmlns=\"http://www.w3.org/2000/svg\" height=\"24px\"viewBox=\"0 0 24 24\"\n",
              "       width=\"24px\">\n",
              "    <path d=\"M0 0h24v24H0V0z\" fill=\"none\"/>\n",
              "    <path d=\"M18.56 5.44l.94 2.06.94-2.06 2.06-.94-2.06-.94-.94-2.06-.94 2.06-2.06.94zm-11 1L8.5 8.5l.94-2.06 2.06-.94-2.06-.94L8.5 2.5l-.94 2.06-2.06.94zm10 10l.94 2.06.94-2.06 2.06-.94-2.06-.94-.94-2.06-.94 2.06-2.06.94z\"/><path d=\"M17.41 7.96l-1.37-1.37c-.4-.4-.92-.59-1.43-.59-.52 0-1.04.2-1.43.59L10.3 9.45l-7.72 7.72c-.78.78-.78 2.05 0 2.83L4 21.41c.39.39.9.59 1.41.59.51 0 1.02-.2 1.41-.59l7.78-7.78 2.81-2.81c.8-.78.8-2.07 0-2.86zM5.41 20L4 18.59l7.72-7.72 1.47 1.35L5.41 20z\"/>\n",
              "  </svg>\n",
              "      </button>\n",
              "      \n",
              "  <style>\n",
              "    .colab-df-container {\n",
              "      display:flex;\n",
              "      flex-wrap:wrap;\n",
              "      gap: 12px;\n",
              "    }\n",
              "\n",
              "    .colab-df-convert {\n",
              "      background-color: #E8F0FE;\n",
              "      border: none;\n",
              "      border-radius: 50%;\n",
              "      cursor: pointer;\n",
              "      display: none;\n",
              "      fill: #1967D2;\n",
              "      height: 32px;\n",
              "      padding: 0 0 0 0;\n",
              "      width: 32px;\n",
              "    }\n",
              "\n",
              "    .colab-df-convert:hover {\n",
              "      background-color: #E2EBFA;\n",
              "      box-shadow: 0px 1px 2px rgba(60, 64, 67, 0.3), 0px 1px 3px 1px rgba(60, 64, 67, 0.15);\n",
              "      fill: #174EA6;\n",
              "    }\n",
              "\n",
              "    [theme=dark] .colab-df-convert {\n",
              "      background-color: #3B4455;\n",
              "      fill: #D2E3FC;\n",
              "    }\n",
              "\n",
              "    [theme=dark] .colab-df-convert:hover {\n",
              "      background-color: #434B5C;\n",
              "      box-shadow: 0px 1px 3px 1px rgba(0, 0, 0, 0.15);\n",
              "      filter: drop-shadow(0px 1px 2px rgba(0, 0, 0, 0.3));\n",
              "      fill: #FFFFFF;\n",
              "    }\n",
              "  </style>\n",
              "\n",
              "      <script>\n",
              "        const buttonEl =\n",
              "          document.querySelector('#df-59901178-0e56-4cd4-9d84-2c7dd91e477d button.colab-df-convert');\n",
              "        buttonEl.style.display =\n",
              "          google.colab.kernel.accessAllowed ? 'block' : 'none';\n",
              "\n",
              "        async function convertToInteractive(key) {\n",
              "          const element = document.querySelector('#df-59901178-0e56-4cd4-9d84-2c7dd91e477d');\n",
              "          const dataTable =\n",
              "            await google.colab.kernel.invokeFunction('convertToInteractive',\n",
              "                                                     [key], {});\n",
              "          if (!dataTable) return;\n",
              "\n",
              "          const docLinkHtml = 'Like what you see? Visit the ' +\n",
              "            '<a target=\"_blank\" href=https://colab.research.google.com/notebooks/data_table.ipynb>data table notebook</a>'\n",
              "            + ' to learn more about interactive tables.';\n",
              "          element.innerHTML = '';\n",
              "          dataTable['output_type'] = 'display_data';\n",
              "          await google.colab.output.renderOutput(dataTable, element);\n",
              "          const docLink = document.createElement('div');\n",
              "          docLink.innerHTML = docLinkHtml;\n",
              "          element.appendChild(docLink);\n",
              "        }\n",
              "      </script>\n",
              "    </div>\n",
              "  </div>\n",
              "  "
            ]
          },
          "metadata": {},
          "execution_count": 80
        }
      ],
      "source": [
        "qualitative.head()"
      ]
    },
    {
      "cell_type": "code",
      "execution_count": null,
      "id": "691b1304",
      "metadata": {
        "execution": {
          "iopub.execute_input": "2022-12-05T15:04:21.817569Z",
          "iopub.status.busy": "2022-12-05T15:04:21.817170Z",
          "iopub.status.idle": "2022-12-05T15:04:21.825401Z",
          "shell.execute_reply": "2022-12-05T15:04:21.824070Z"
        },
        "papermill": {
          "duration": 0.030543,
          "end_time": "2022-12-05T15:04:21.827754",
          "exception": false,
          "start_time": "2022-12-05T15:04:21.797211",
          "status": "completed"
        },
        "tags": [],
        "id": "691b1304",
        "outputId": "cf23de3f-beb5-4c6d-81f5-9c23c0c5e75a",
        "colab": {
          "base_uri": "https://localhost:8080/"
        }
      },
      "outputs": [
        {
          "output_type": "execute_result",
          "data": {
            "text/plain": [
              "Dell         297\n",
              "Lenovo       297\n",
              "HP           274\n",
              "Asus         158\n",
              "Acer         103\n",
              "MSI           54\n",
              "Toshiba       48\n",
              "Apple         21\n",
              "Samsung        9\n",
              "Razer          7\n",
              "Mediacom       7\n",
              "Microsoft      6\n",
              "Xiaomi         4\n",
              "Vero           4\n",
              "Chuwi          3\n",
              "Google         3\n",
              "Fujitsu        3\n",
              "LG             3\n",
              "Huawei         2\n",
              "Name: Company, dtype: int64"
            ]
          },
          "metadata": {},
          "execution_count": 81
        }
      ],
      "source": [
        "qualitative['Company'].value_counts()"
      ]
    },
    {
      "cell_type": "code",
      "execution_count": null,
      "id": "7e22ffba",
      "metadata": {
        "execution": {
          "iopub.execute_input": "2022-12-05T15:04:21.866920Z",
          "iopub.status.busy": "2022-12-05T15:04:21.866561Z",
          "iopub.status.idle": "2022-12-05T15:04:22.556703Z",
          "shell.execute_reply": "2022-12-05T15:04:22.555262Z"
        },
        "papermill": {
          "duration": 0.712457,
          "end_time": "2022-12-05T15:04:22.558845",
          "exception": false,
          "start_time": "2022-12-05T15:04:21.846388",
          "status": "completed"
        },
        "tags": [],
        "id": "7e22ffba",
        "outputId": "6ba5a31b-62b1-43d3-f252-891f19b20ee6",
        "colab": {
          "base_uri": "https://localhost:8080/",
          "height": 530
        }
      },
      "outputs": [
        {
          "output_type": "display_data",
          "data": {
            "text/plain": [
              "<Figure size 1440x576 with 1 Axes>"
            ],
            "image/png": "[encoded data removed]"
          },
          "metadata": {
            "needs_background": "light"
          }
        }
      ],
      "source": [
        "plt.figure(figsize=(20,8))\n",
        "sns.barplot(x='Company',y='Price',data=data)\n",
        "plt.xticks(rotation='vertical')\n",
        "plt.show()"
      ]
    },
    {
      "cell_type": "markdown",
      "id": "72a94160",
      "metadata": {
        "papermill": {
          "duration": 0.018601,
          "end_time": "2022-12-05T15:04:22.596424",
          "exception": false,
          "start_time": "2022-12-05T15:04:22.577823",
          "status": "completed"
        },
        "tags": [],
        "id": "72a94160"
      },
      "source": [
        "* *We have to list low value_count companies into a new value called others*"
      ]
    },
    {
      "cell_type": "code",
      "execution_count": null,
      "id": "817e8293",
      "metadata": {
        "execution": {
          "iopub.execute_input": "2022-12-05T15:04:22.635766Z",
          "iopub.status.busy": "2022-12-05T15:04:22.635382Z",
          "iopub.status.idle": "2022-12-05T15:04:22.821657Z",
          "shell.execute_reply": "2022-12-05T15:04:22.820640Z"
        },
        "papermill": {
          "duration": 0.208327,
          "end_time": "2022-12-05T15:04:22.823692",
          "exception": false,
          "start_time": "2022-12-05T15:04:22.615365",
          "status": "completed"
        },
        "tags": [],
        "id": "817e8293",
        "outputId": "65cf2472-9fbd-444b-9625-b47811e8744f",
        "colab": {
          "base_uri": "https://localhost:8080/",
          "height": 301
        }
      },
      "outputs": [
        {
          "output_type": "execute_result",
          "data": {
            "text/plain": [
              "<matplotlib.axes._subplots.AxesSubplot at 0x7f3270591af0>"
            ]
          },
          "metadata": {},
          "execution_count": 83
        },
        {
          "output_type": "display_data",
          "data": {
            "text/plain": [
              "<Figure size 432x288 with 1 Axes>"
            ],
            "image/png": "[encoded data removed]"
          },
          "metadata": {
            "needs_background": "light"
          }
        }
      ],
      "source": [
        "#RAM\n",
        "data['Ram'].value_counts().plot(kind='bar')"
      ]
    },
    {
      "cell_type": "code",
      "execution_count": null,
      "id": "0d7f3dc1",
      "metadata": {
        "execution": {
          "iopub.execute_input": "2022-12-05T15:04:22.864000Z",
          "iopub.status.busy": "2022-12-05T15:04:22.863571Z",
          "iopub.status.idle": "2022-12-05T15:04:23.211083Z",
          "shell.execute_reply": "2022-12-05T15:04:23.209456Z"
        },
        "papermill": {
          "duration": 0.370908,
          "end_time": "2022-12-05T15:04:23.213843",
          "exception": false,
          "start_time": "2022-12-05T15:04:22.842935",
          "status": "completed"
        },
        "tags": [],
        "id": "0d7f3dc1",
        "outputId": "7e536f55-876d-4c25-9f2d-713931915bc4",
        "colab": {
          "base_uri": "https://localhost:8080/",
          "height": 297
        }
      },
      "outputs": [
        {
          "output_type": "execute_result",
          "data": {
            "text/plain": [
              "<matplotlib.axes._subplots.AxesSubplot at 0x7f327eff0ca0>"
            ]
          },
          "metadata": {},
          "execution_count": 84
        },
        {
          "output_type": "display_data",
          "data": {
            "text/plain": [
              "<Figure size 720x288 with 1 Axes>"
            ],
            "image/png": "[encoded data removed]"
          },
          "metadata": {
            "needs_background": "light"
          }
        }
      ],
      "source": [
        "plt.figure(figsize=(10,4))\n",
        "sns.barplot(x='Ram',y='Price',data=data)"
      ]
    },
    {
      "cell_type": "markdown",
      "id": "1a93b01d",
      "metadata": {
        "papermill": {
          "duration": 0.019011,
          "end_time": "2022-12-05T15:04:23.252456",
          "exception": false,
          "start_time": "2022-12-05T15:04:23.233445",
          "status": "completed"
        },
        "tags": [],
        "id": "1a93b01d"
      },
      "source": [
        "* *We have to change value into numeric type by removeing 'GB'*"
      ]
    },
    {
      "cell_type": "code",
      "execution_count": null,
      "id": "e70a4281",
      "metadata": {
        "execution": {
          "iopub.execute_input": "2022-12-05T15:04:23.293498Z",
          "iopub.status.busy": "2022-12-05T15:04:23.293149Z",
          "iopub.status.idle": "2022-12-05T15:04:23.302442Z",
          "shell.execute_reply": "2022-12-05T15:04:23.301307Z"
        },
        "papermill": {
          "duration": 0.032257,
          "end_time": "2022-12-05T15:04:23.304354",
          "exception": false,
          "start_time": "2022-12-05T15:04:23.272097",
          "status": "completed"
        },
        "tags": [],
        "id": "e70a4281",
        "outputId": "b8b4a7ee-efc7-4438-fa30-e7685f252df6",
        "colab": {
          "base_uri": "https://localhost:8080/"
        }
      },
      "outputs": [
        {
          "output_type": "execute_result",
          "data": {
            "text/plain": [
              "256GB SSD                        412\n",
              "1TB HDD                          223\n",
              "500GB HDD                        132\n",
              "512GB SSD                        118\n",
              "128GB SSD +  1TB HDD              94\n",
              "128GB SSD                         76\n",
              "256GB SSD +  1TB HDD              73\n",
              "32GB Flash Storage                38\n",
              "2TB HDD                           16\n",
              "64GB Flash Storage                15\n",
              "512GB SSD +  1TB HDD              14\n",
              "1TB SSD                           14\n",
              "256GB SSD +  2TB HDD              10\n",
              "1.0TB Hybrid                       9\n",
              "256GB Flash Storage                8\n",
              "16GB Flash Storage                 7\n",
              "32GB SSD                           6\n",
              "180GB SSD                          5\n",
              "128GB Flash Storage                4\n",
              "512GB SSD +  2TB HDD               3\n",
              "16GB SSD                           3\n",
              "512GB Flash Storage                2\n",
              "1TB SSD +  1TB HDD                 2\n",
              "256GB SSD +  500GB HDD             2\n",
              "128GB SSD +  2TB HDD               2\n",
              "256GB SSD +  256GB SSD             2\n",
              "512GB SSD +  256GB SSD             1\n",
              "512GB SSD +  512GB SSD             1\n",
              "64GB Flash Storage +  1TB HDD      1\n",
              "1TB HDD +  1TB HDD                 1\n",
              "32GB HDD                           1\n",
              "64GB SSD                           1\n",
              "128GB HDD                          1\n",
              "240GB SSD                          1\n",
              "8GB SSD                            1\n",
              "508GB Hybrid                       1\n",
              "1.0TB HDD                          1\n",
              "512GB SSD +  1.0TB Hybrid          1\n",
              "256GB SSD +  1.0TB Hybrid          1\n",
              "Name: Memory, dtype: int64"
            ]
          },
          "metadata": {},
          "execution_count": 85
        }
      ],
      "source": [
        "data['Memory'].value_counts()"
      ]
    },
    {
      "cell_type": "markdown",
      "id": "21a33fc7",
      "metadata": {
        "papermill": {
          "duration": 0.019164,
          "end_time": "2022-12-05T15:04:23.343423",
          "exception": false,
          "start_time": "2022-12-05T15:04:23.324259",
          "status": "completed"
        },
        "tags": [],
        "id": "21a33fc7"
      },
      "source": [
        "* *we have to treat SSD,HHD,HYBRID,FLASH STORAGE differently and identify how they relate to price*"
      ]
    },
    {
      "cell_type": "code",
      "execution_count": null,
      "id": "47c5c8df",
      "metadata": {
        "execution": {
          "iopub.execute_input": "2022-12-05T15:04:23.383608Z",
          "iopub.status.busy": "2022-12-05T15:04:23.383084Z",
          "iopub.status.idle": "2022-12-05T15:04:23.551063Z",
          "shell.execute_reply": "2022-12-05T15:04:23.549850Z"
        },
        "papermill": {
          "duration": 0.190486,
          "end_time": "2022-12-05T15:04:23.553206",
          "exception": false,
          "start_time": "2022-12-05T15:04:23.362720",
          "status": "completed"
        },
        "tags": [],
        "id": "47c5c8df",
        "outputId": "554d9267-ce26-48e2-d503-def2610eddeb",
        "colab": {
          "base_uri": "https://localhost:8080/",
          "height": 343
        }
      },
      "outputs": [
        {
          "output_type": "execute_result",
          "data": {
            "text/plain": [
              "<matplotlib.axes._subplots.AxesSubplot at 0x7f3280ad30d0>"
            ]
          },
          "metadata": {},
          "execution_count": 86
        },
        {
          "output_type": "display_data",
          "data": {
            "text/plain": [
              "<Figure size 432x288 with 1 Axes>"
            ],
            "image/png": "[encoded data removed]"
          },
          "metadata": {
            "needs_background": "light"
          }
        }
      ],
      "source": [
        "#Operating System\n",
        "data['OpSys'].value_counts().plot(kind='bar')"
      ]
    },
    {
      "cell_type": "code",
      "execution_count": null,
      "id": "5a31f952",
      "metadata": {
        "execution": {
          "iopub.execute_input": "2022-12-05T15:04:23.595766Z",
          "iopub.status.busy": "2022-12-05T15:04:23.595336Z",
          "iopub.status.idle": "2022-12-05T15:04:23.937669Z",
          "shell.execute_reply": "2022-12-05T15:04:23.936427Z"
        },
        "papermill": {
          "duration": 0.366724,
          "end_time": "2022-12-05T15:04:23.940188",
          "exception": false,
          "start_time": "2022-12-05T15:04:23.573464",
          "status": "completed"
        },
        "tags": [],
        "id": "5a31f952",
        "outputId": "703d498d-e518-48a1-e375-cced207150a2",
        "colab": {
          "base_uri": "https://localhost:8080/",
          "height": 339
        }
      },
      "outputs": [
        {
          "output_type": "display_data",
          "data": {
            "text/plain": [
              "<Figure size 720x288 with 1 Axes>"
            ],
            "image/png": "[encoded data removed]"
          },
          "metadata": {
            "needs_background": "light"
          }
        }
      ],
      "source": [
        "plt.figure(figsize=(10,4))\n",
        "sns.barplot(x='OpSys',y='Price',data=data)\n",
        "plt.xticks(rotation='vertical')\n",
        "plt.show()"
      ]
    },
    {
      "cell_type": "markdown",
      "id": "1640240c",
      "metadata": {
        "papermill": {
          "duration": 0.020258,
          "end_time": "2022-12-05T15:04:23.980997",
          "exception": false,
          "start_time": "2022-12-05T15:04:23.960739",
          "status": "completed"
        },
        "tags": [],
        "id": "1640240c"
      },
      "source": [
        "* *Windows 10 has more counts than others,So we have to scale it*"
      ]
    },
    {
      "cell_type": "code",
      "execution_count": null,
      "id": "4de079af",
      "metadata": {
        "execution": {
          "iopub.execute_input": "2022-12-05T15:04:24.023722Z",
          "iopub.status.busy": "2022-12-05T15:04:24.022746Z",
          "iopub.status.idle": "2022-12-05T15:04:24.031497Z",
          "shell.execute_reply": "2022-12-05T15:04:24.030206Z"
        },
        "papermill": {
          "duration": 0.032914,
          "end_time": "2022-12-05T15:04:24.034318",
          "exception": false,
          "start_time": "2022-12-05T15:04:24.001404",
          "status": "completed"
        },
        "tags": [],
        "id": "4de079af",
        "outputId": "24c4bc3d-b6fd-49a4-f8b7-cc6c81f72e7f",
        "colab": {
          "base_uri": "https://localhost:8080/"
        }
      },
      "outputs": [
        {
          "output_type": "execute_result",
          "data": {
            "text/plain": [
              "Full HD 1920x1080                                507\n",
              "1366x768                                         281\n",
              "IPS Panel Full HD 1920x1080                      230\n",
              "IPS Panel Full HD / Touchscreen 1920x1080         53\n",
              "Full HD / Touchscreen 1920x1080                   47\n",
              "1600x900                                          23\n",
              "Touchscreen 1366x768                              16\n",
              "Quad HD+ / Touchscreen 3200x1800                  15\n",
              "IPS Panel 4K Ultra HD 3840x2160                   12\n",
              "IPS Panel 4K Ultra HD / Touchscreen 3840x2160     11\n",
              "4K Ultra HD / Touchscreen 3840x2160               10\n",
              "4K Ultra HD 3840x2160                              7\n",
              "Touchscreen 2560x1440                              7\n",
              "IPS Panel 1366x768                                 7\n",
              "IPS Panel Quad HD+ / Touchscreen 3200x1800         6\n",
              "IPS Panel Retina Display 2560x1600                 6\n",
              "IPS Panel Retina Display 2304x1440                 6\n",
              "Touchscreen 2256x1504                              6\n",
              "IPS Panel Touchscreen 2560x1440                    5\n",
              "IPS Panel Retina Display 2880x1800                 4\n",
              "IPS Panel Touchscreen 1920x1200                    4\n",
              "1440x900                                           4\n",
              "IPS Panel 2560x1440                                4\n",
              "IPS Panel Quad HD+ 2560x1440                       3\n",
              "Quad HD+ 3200x1800                                 3\n",
              "1920x1080                                          3\n",
              "Touchscreen 2400x1600                              3\n",
              "2560x1440                                          3\n",
              "IPS Panel Touchscreen 1366x768                     3\n",
              "IPS Panel Touchscreen / 4K Ultra HD 3840x2160      2\n",
              "IPS Panel Full HD 2160x1440                        2\n",
              "IPS Panel Quad HD+ 3200x1800                       2\n",
              "IPS Panel Retina Display 2736x1824                 1\n",
              "IPS Panel Full HD 1920x1200                        1\n",
              "IPS Panel Full HD 2560x1440                        1\n",
              "IPS Panel Full HD 1366x768                         1\n",
              "Touchscreen / Full HD 1920x1080                    1\n",
              "Touchscreen / Quad HD+ 3200x1800                   1\n",
              "Touchscreen / 4K Ultra HD 3840x2160                1\n",
              "IPS Panel Touchscreen 2400x1600                    1\n",
              "Name: ScreenResolution, dtype: int64"
            ]
          },
          "metadata": {},
          "execution_count": 88
        }
      ],
      "source": [
        "#Screen Resolution\n",
        "data['ScreenResolution'].value_counts()"
      ]
    },
    {
      "cell_type": "markdown",
      "id": "694810f9",
      "metadata": {
        "papermill": {
          "duration": 0.0199,
          "end_time": "2022-12-05T15:04:24.074633",
          "exception": false,
          "start_time": "2022-12-05T15:04:24.054733",
          "status": "completed"
        },
        "tags": [],
        "id": "694810f9"
      },
      "source": [
        "* *There are more different values,we have to aggregate them into different groups*"
      ]
    },
    {
      "cell_type": "code",
      "execution_count": null,
      "id": "aab4e851",
      "metadata": {
        "execution": {
          "iopub.execute_input": "2022-12-05T15:04:24.123783Z",
          "iopub.status.busy": "2022-12-05T15:04:24.122931Z",
          "iopub.status.idle": "2022-12-05T15:04:24.662894Z",
          "shell.execute_reply": "2022-12-05T15:04:24.661869Z"
        },
        "papermill": {
          "duration": 0.567912,
          "end_time": "2022-12-05T15:04:24.664829",
          "exception": false,
          "start_time": "2022-12-05T15:04:24.096917",
          "status": "completed"
        },
        "tags": [],
        "id": "aab4e851",
        "outputId": "f66ced40-6a2c-45d1-df58-3a7eedaf6d3b",
        "colab": {
          "base_uri": "https://localhost:8080/",
          "height": 352
        }
      },
      "outputs": [
        {
          "output_type": "execute_result",
          "data": {
            "text/plain": [
              "<matplotlib.axes._subplots.AxesSubplot at 0x7f3281404100>"
            ]
          },
          "metadata": {},
          "execution_count": 89
        },
        {
          "output_type": "display_data",
          "data": {
            "text/plain": [
              "<Figure size 720x360 with 1 Axes>"
            ],
            "image/png": "[encoded data removed]"
          },
          "metadata": {
            "needs_background": "light"
          }
        }
      ],
      "source": [
        "#Inches\n",
        "plt.figure(figsize=(10,5))\n",
        "sns.barplot(x='Inches',y='Price',data=data)"
      ]
    },
    {
      "cell_type": "markdown",
      "id": "e3c2c651",
      "metadata": {
        "papermill": {
          "duration": 0.02607,
          "end_time": "2022-12-05T15:04:24.717230",
          "exception": false,
          "start_time": "2022-12-05T15:04:24.691160",
          "status": "completed"
        },
        "tags": [],
        "id": "e3c2c651"
      },
      "source": [
        "* *We have to reduce the no: of values into small*"
      ]
    },
    {
      "cell_type": "code",
      "execution_count": null,
      "id": "9723fa4c",
      "metadata": {
        "execution": {
          "iopub.execute_input": "2022-12-05T15:04:24.762421Z",
          "iopub.status.busy": "2022-12-05T15:04:24.761767Z",
          "iopub.status.idle": "2022-12-05T15:04:25.043507Z",
          "shell.execute_reply": "2022-12-05T15:04:25.042250Z"
        },
        "papermill": {
          "duration": 0.306793,
          "end_time": "2022-12-05T15:04:25.045602",
          "exception": false,
          "start_time": "2022-12-05T15:04:24.738809",
          "status": "completed"
        },
        "tags": [],
        "id": "9723fa4c",
        "outputId": "4907a2c1-9336-4577-801e-6242c86a5eb2",
        "colab": {
          "base_uri": "https://localhost:8080/",
          "height": 412
        }
      },
      "outputs": [
        {
          "output_type": "display_data",
          "data": {
            "text/plain": [
              "<Figure size 720x360 with 1 Axes>"
            ],
            "image/png": "[encoded data removed]"
          },
          "metadata": {
            "needs_background": "light"
          }
        }
      ],
      "source": [
        "#Type Name\n",
        "plt.figure(figsize=(10,5))\n",
        "sns.barplot(x='TypeName',y='Price',data=data)\n",
        "plt.xticks(rotation='vertical')\n",
        "plt.show()"
      ]
    },
    {
      "cell_type": "markdown",
      "id": "4743401f",
      "metadata": {
        "papermill": {
          "duration": 0.02277,
          "end_time": "2022-12-05T15:04:25.090545",
          "exception": false,
          "start_time": "2022-12-05T15:04:25.067775",
          "status": "completed"
        },
        "tags": [],
        "id": "4743401f"
      },
      "source": [
        "**QUANTITATIVE FEATURES**"
      ]
    },
    {
      "cell_type": "code",
      "execution_count": null,
      "id": "fc8d38e4",
      "metadata": {
        "execution": {
          "iopub.execute_input": "2022-12-05T15:04:25.134203Z",
          "iopub.status.busy": "2022-12-05T15:04:25.133875Z",
          "iopub.status.idle": "2022-12-05T15:04:25.145323Z",
          "shell.execute_reply": "2022-12-05T15:04:25.144241Z"
        },
        "papermill": {
          "duration": 0.035742,
          "end_time": "2022-12-05T15:04:25.147614",
          "exception": false,
          "start_time": "2022-12-05T15:04:25.111872",
          "status": "completed"
        },
        "tags": [],
        "id": "fc8d38e4",
        "outputId": "5dd55d54-9478-4ac5-f5b5-afa3de4c0c2f",
        "colab": {
          "base_uri": "https://localhost:8080/",
          "height": 206
        }
      },
      "outputs": [
        {
          "output_type": "execute_result",
          "data": {
            "text/plain": [
              "   Weight        Price                           Gpu  \\\n",
              "0  1.37kg   71378.6832  Intel Iris Plus Graphics 640   \n",
              "1  1.34kg   47895.5232        Intel HD Graphics 6000   \n",
              "2  1.86kg   30636.0000         Intel HD Graphics 620   \n",
              "3  1.83kg  135195.3360            AMD Radeon Pro 455   \n",
              "4  1.37kg   96095.8080  Intel Iris Plus Graphics 650   \n",
              "\n",
              "                          Cpu  \n",
              "0        Intel Core i5 2.3GHz  \n",
              "1        Intel Core i5 1.8GHz  \n",
              "2  Intel Core i5 7200U 2.5GHz  \n",
              "3        Intel Core i7 2.7GHz  \n",
              "4        Intel Core i5 3.1GHz  "
            ],
            "text/html": [
              "\n",
              "  <div id=\"df-58684cc8-8e65-40d4-bab0-33a8ddd24fc4\">\n",
              "    <div class=\"colab-df-container\">\n",
              "      <div>\n",
              "<style scoped>\n",
              "    .dataframe tbody tr th:only-of-type {\n",
              "        vertical-align: middle;\n",
              "    }\n",
              "\n",
              "    .dataframe tbody tr th {\n",
              "        vertical-align: top;\n",
              "    }\n",
              "\n",
              "    .dataframe thead th {\n",
              "        text-align: right;\n",
              "    }\n",
              "</style>\n",
              "<table border=\"1\" class=\"dataframe\">\n",
              "  <thead>\n",
              "    <tr style=\"text-align: right;\">\n",
              "      <th></th>\n",
              "      <th>Weight</th>\n",
              "      <th>Price</th>\n",
              "      <th>Gpu</th>\n",
              "      <th>Cpu</th>\n",
              "    </tr>\n",
              "  </thead>\n",
              "  <tbody>\n",
              "    <tr>\n",
              "      <th>0</th>\n",
              "      <td>1.37kg</td>\n",
              "      <td>71378.6832</td>\n",
              "      <td>Intel Iris Plus Graphics 640</td>\n",
              "      <td>Intel Core i5 2.3GHz</td>\n",
              "    </tr>\n",
              "    <tr>\n",
              "      <th>1</th>\n",
              "      <td>1.34kg</td>\n",
              "      <td>47895.5232</td>\n",
              "      <td>Intel HD Graphics 6000</td>\n",
              "      <td>Intel Core i5 1.8GHz</td>\n",
              "    </tr>\n",
              "    <tr>\n",
              "      <th>2</th>\n",
              "      <td>1.86kg</td>\n",
              "      <td>30636.0000</td>\n",
              "      <td>Intel HD Graphics 620</td>\n",
              "      <td>Intel Core i5 7200U 2.5GHz</td>\n",
              "    </tr>\n",
              "    <tr>\n",
              "      <th>3</th>\n",
              "      <td>1.83kg</td>\n",
              "      <td>135195.3360</td>\n",
              "      <td>AMD Radeon Pro 455</td>\n",
              "      <td>Intel Core i7 2.7GHz</td>\n",
              "    </tr>\n",
              "    <tr>\n",
              "      <th>4</th>\n",
              "      <td>1.37kg</td>\n",
              "      <td>96095.8080</td>\n",
              "      <td>Intel Iris Plus Graphics 650</td>\n",
              "      <td>Intel Core i5 3.1GHz</td>\n",
              "    </tr>\n",
              "  </tbody>\n",
              "</table>\n",
              "</div>\n",
              "      <button class=\"colab-df-convert\" onclick=\"convertToInteractive('df-58684cc8-8e65-40d4-bab0-33a8ddd24fc4')\"\n",
              "              title=\"Convert this dataframe to an interactive table.\"\n",
              "              style=\"display:none;\">\n",
              "        \n",
              "  <svg xmlns=\"http://www.w3.org/2000/svg\" height=\"24px\"viewBox=\"0 0 24 24\"\n",
              "       width=\"24px\">\n",
              "    <path d=\"M0 0h24v24H0V0z\" fill=\"none\"/>\n",
              "    <path d=\"M18.56 5.44l.94 2.06.94-2.06 2.06-.94-2.06-.94-.94-2.06-.94 2.06-2.06.94zm-11 1L8.5 8.5l.94-2.06 2.06-.94-2.06-.94L8.5 2.5l-.94 2.06-2.06.94zm10 10l.94 2.06.94-2.06 2.06-.94-2.06-.94-.94-2.06-.94 2.06-2.06.94z\"/><path d=\"M17.41 7.96l-1.37-1.37c-.4-.4-.92-.59-1.43-.59-.52 0-1.04.2-1.43.59L10.3 9.45l-7.72 7.72c-.78.78-.78 2.05 0 2.83L4 21.41c.39.39.9.59 1.41.59.51 0 1.02-.2 1.41-.59l7.78-7.78 2.81-2.81c.8-.78.8-2.07 0-2.86zM5.41 20L4 18.59l7.72-7.72 1.47 1.35L5.41 20z\"/>\n",
              "  </svg>\n",
              "      </button>\n",
              "      \n",
              "  <style>\n",
              "    .colab-df-container {\n",
              "      display:flex;\n",
              "      flex-wrap:wrap;\n",
              "      gap: 12px;\n",
              "    }\n",
              "\n",
              "    .colab-df-convert {\n",
              "      background-color: #E8F0FE;\n",
              "      border: none;\n",
              "      border-radius: 50%;\n",
              "      cursor: pointer;\n",
              "      display: none;\n",
              "      fill: #1967D2;\n",
              "      height: 32px;\n",
              "      padding: 0 0 0 0;\n",
              "      width: 32px;\n",
              "    }\n",
              "\n",
              "    .colab-df-convert:hover {\n",
              "      background-color: #E2EBFA;\n",
              "      box-shadow: 0px 1px 2px rgba(60, 64, 67, 0.3), 0px 1px 3px 1px rgba(60, 64, 67, 0.15);\n",
              "      fill: #174EA6;\n",
              "    }\n",
              "\n",
              "    [theme=dark] .colab-df-convert {\n",
              "      background-color: #3B4455;\n",
              "      fill: #D2E3FC;\n",
              "    }\n",
              "\n",
              "    [theme=dark] .colab-df-convert:hover {\n",
              "      background-color: #434B5C;\n",
              "      box-shadow: 0px 1px 3px 1px rgba(0, 0, 0, 0.15);\n",
              "      filter: drop-shadow(0px 1px 2px rgba(0, 0, 0, 0.3));\n",
              "      fill: #FFFFFF;\n",
              "    }\n",
              "  </style>\n",
              "\n",
              "      <script>\n",
              "        const buttonEl =\n",
              "          document.querySelector('#df-58684cc8-8e65-40d4-bab0-33a8ddd24fc4 button.colab-df-convert');\n",
              "        buttonEl.style.display =\n",
              "          google.colab.kernel.accessAllowed ? 'block' : 'none';\n",
              "\n",
              "        async function convertToInteractive(key) {\n",
              "          const element = document.querySelector('#df-58684cc8-8e65-40d4-bab0-33a8ddd24fc4');\n",
              "          const dataTable =\n",
              "            await google.colab.kernel.invokeFunction('convertToInteractive',\n",
              "                                                     [key], {});\n",
              "          if (!dataTable) return;\n",
              "\n",
              "          const docLinkHtml = 'Like what you see? Visit the ' +\n",
              "            '<a target=\"_blank\" href=https://colab.research.google.com/notebooks/data_table.ipynb>data table notebook</a>'\n",
              "            + ' to learn more about interactive tables.';\n",
              "          element.innerHTML = '';\n",
              "          dataTable['output_type'] = 'display_data';\n",
              "          await google.colab.output.renderOutput(dataTable, element);\n",
              "          const docLink = document.createElement('div');\n",
              "          docLink.innerHTML = docLinkHtml;\n",
              "          element.appendChild(docLink);\n",
              "        }\n",
              "      </script>\n",
              "    </div>\n",
              "  </div>\n",
              "  "
            ]
          },
          "metadata": {},
          "execution_count": 91
        }
      ],
      "source": [
        "quantitative.head()"
      ]
    },
    {
      "cell_type": "code",
      "execution_count": null,
      "id": "430cee09",
      "metadata": {
        "execution": {
          "iopub.execute_input": "2022-12-05T15:04:25.193830Z",
          "iopub.status.busy": "2022-12-05T15:04:25.192642Z",
          "iopub.status.idle": "2022-12-05T15:04:26.456849Z",
          "shell.execute_reply": "2022-12-05T15:04:26.455810Z"
        },
        "papermill": {
          "duration": 1.28982,
          "end_time": "2022-12-05T15:04:26.459334",
          "exception": false,
          "start_time": "2022-12-05T15:04:25.169514",
          "status": "completed"
        },
        "tags": [],
        "id": "430cee09",
        "outputId": "ba464fd0-b63c-40a7-99ea-23831fce741d",
        "colab": {
          "base_uri": "https://localhost:8080/",
          "height": 416
        }
      },
      "outputs": [
        {
          "output_type": "display_data",
          "data": {
            "text/plain": [
              "<Figure size 1080x576 with 1 Axes>"
            ],
            "image/png": "[encoded data removed]"
          },
          "metadata": {
            "needs_background": "light"
          }
        }
      ],
      "source": [
        "#Weight\n",
        "plt.figure(figsize=(15,8))\n",
        "sns.scatterplot(x='Weight',y='Price',data=data)\n",
        "plt.xticks(rotation='vertical')\n",
        "plt.show()"
      ]
    },
    {
      "cell_type": "markdown",
      "id": "6023612e",
      "metadata": {
        "papermill": {
          "duration": 0.021807,
          "end_time": "2022-12-05T15:04:26.505376",
          "exception": false,
          "start_time": "2022-12-05T15:04:26.483569",
          "status": "completed"
        },
        "tags": [],
        "id": "6023612e"
      },
      "source": [
        "* *We have to deal with the 'Kg' to convert the value to numeric*\n",
        "* *And then we can reduce them into bins*"
      ]
    },
    {
      "cell_type": "code",
      "execution_count": null,
      "id": "07fd6990",
      "metadata": {
        "execution": {
          "iopub.execute_input": "2022-12-05T15:04:26.550893Z",
          "iopub.status.busy": "2022-12-05T15:04:26.550544Z",
          "iopub.status.idle": "2022-12-05T15:04:26.717714Z",
          "shell.execute_reply": "2022-12-05T15:04:26.716470Z"
        },
        "papermill": {
          "duration": 0.192732,
          "end_time": "2022-12-05T15:04:26.720279",
          "exception": false,
          "start_time": "2022-12-05T15:04:26.527547",
          "status": "completed"
        },
        "tags": [],
        "id": "07fd6990",
        "outputId": "51b3aefc-1dac-41fa-b4ed-9d10e4c9852d",
        "colab": {
          "base_uri": "https://localhost:8080/",
          "height": 283
        }
      },
      "outputs": [
        {
          "output_type": "execute_result",
          "data": {
            "text/plain": [
              "<matplotlib.axes._subplots.AxesSubplot at 0x7f327050ba60>"
            ]
          },
          "metadata": {},
          "execution_count": 93
        },
        {
          "output_type": "display_data",
          "data": {
            "text/plain": [
              "<Figure size 432x288 with 1 Axes>"
            ],
            "image/png": "[encoded data removed]"
          },
          "metadata": {
            "needs_background": "light"
          }
        }
      ],
      "source": [
        "#Price\n",
        "data['Price'].plot(kind='hist')"
      ]
    },
    {
      "cell_type": "code",
      "execution_count": null,
      "id": "49a3ee6d",
      "metadata": {
        "execution": {
          "iopub.execute_input": "2022-12-05T15:04:26.769713Z",
          "iopub.status.busy": "2022-12-05T15:04:26.768164Z",
          "iopub.status.idle": "2022-12-05T15:04:26.779141Z",
          "shell.execute_reply": "2022-12-05T15:04:26.777475Z"
        },
        "papermill": {
          "duration": 0.037762,
          "end_time": "2022-12-05T15:04:26.781506",
          "exception": false,
          "start_time": "2022-12-05T15:04:26.743744",
          "status": "completed"
        },
        "tags": [],
        "id": "49a3ee6d",
        "outputId": "8ac3851d-5d29-40b7-8a0c-f3cf9eebaa57",
        "colab": {
          "base_uri": "https://localhost:8080/"
        }
      },
      "outputs": [
        {
          "output_type": "execute_result",
          "data": {
            "text/plain": [
              "Intel Core i5 7200U 2.5GHz       190\n",
              "Intel Core i7 7700HQ 2.8GHz      146\n",
              "Intel Core i7 7500U 2.7GHz       134\n",
              "Intel Core i7 8550U 1.8GHz        73\n",
              "Intel Core i5 8250U 1.6GHz        72\n",
              "                                ... \n",
              "Intel Core M M3-6Y30 0.9GHz        1\n",
              "AMD A9-Series 9420 2.9GHz          1\n",
              "Intel Core i3 6006U 2.2GHz         1\n",
              "AMD A6-Series 7310 2GHz            1\n",
              "Intel Xeon E3-1535M v6 3.1GHz      1\n",
              "Name: Cpu, Length: 118, dtype: int64"
            ]
          },
          "metadata": {},
          "execution_count": 94
        }
      ],
      "source": [
        "#Cpu\n",
        "data['Cpu'].value_counts()"
      ]
    },
    {
      "cell_type": "markdown",
      "id": "eb4d9824",
      "metadata": {
        "papermill": {
          "duration": 0.021924,
          "end_time": "2022-12-05T15:04:26.825929",
          "exception": false,
          "start_time": "2022-12-05T15:04:26.804005",
          "status": "completed"
        },
        "tags": [],
        "id": "eb4d9824"
      },
      "source": [
        "* *We have to reduce the count into bins*"
      ]
    },
    {
      "cell_type": "code",
      "execution_count": null,
      "id": "c36a18e5",
      "metadata": {
        "execution": {
          "iopub.execute_input": "2022-12-05T15:04:26.871854Z",
          "iopub.status.busy": "2022-12-05T15:04:26.871495Z",
          "iopub.status.idle": "2022-12-05T15:04:26.877141Z",
          "shell.execute_reply": "2022-12-05T15:04:26.875366Z"
        },
        "papermill": {
          "duration": 0.032075,
          "end_time": "2022-12-05T15:04:26.880197",
          "exception": false,
          "start_time": "2022-12-05T15:04:26.848122",
          "status": "completed"
        },
        "tags": [],
        "id": "c36a18e5"
      },
      "outputs": [],
      "source": [
        "#GPU\n"
      ]
    },
    {
      "cell_type": "markdown",
      "id": "e817036a",
      "metadata": {
        "papermill": {
          "duration": 0.021305,
          "end_time": "2022-12-05T15:04:26.924100",
          "exception": false,
          "start_time": "2022-12-05T15:04:26.902795",
          "status": "completed"
        },
        "tags": [],
        "id": "e817036a"
      },
      "source": [
        "# FEATURE ENGINEERING"
      ]
    },
    {
      "cell_type": "code",
      "execution_count": null,
      "id": "b1a298ab",
      "metadata": {
        "execution": {
          "iopub.execute_input": "2022-12-05T15:04:26.972089Z",
          "iopub.status.busy": "2022-12-05T15:04:26.971704Z",
          "iopub.status.idle": "2022-12-05T15:04:26.985569Z",
          "shell.execute_reply": "2022-12-05T15:04:26.984580Z"
        },
        "papermill": {
          "duration": 0.040432,
          "end_time": "2022-12-05T15:04:26.988228",
          "exception": false,
          "start_time": "2022-12-05T15:04:26.947796",
          "status": "completed"
        },
        "tags": [],
        "id": "b1a298ab",
        "outputId": "df9c9e98-184f-4e90-a247-fccc11294457",
        "colab": {
          "base_uri": "https://localhost:8080/",
          "height": 319
        }
      },
      "outputs": [
        {
          "output_type": "execute_result",
          "data": {
            "text/plain": [
              "     Company   Ram                Memory       OpSys  \\\n",
              "608   Lenovo   8GB             256GB SSD  Windows 10   \n",
              "463   Lenovo   8GB             512GB SSD       No OS   \n",
              "509   Lenovo   8GB  256GB SSD +  1TB HDD       No OS   \n",
              "1216    Acer   4GB               1TB HDD  Windows 10   \n",
              "311     Dell  16GB               1TB SSD  Windows 10   \n",
              "\n",
              "                                   ScreenResolution  Inches  \\\n",
              "608       IPS Panel Full HD / Touchscreen 1920x1080    15.6   \n",
              "463                     IPS Panel Full HD 1920x1080    14.0   \n",
              "509                     IPS Panel Full HD 1920x1080    15.6   \n",
              "1216                                       1600x900    17.3   \n",
              "311   IPS Panel 4K Ultra HD / Touchscreen 3840x2160    13.3   \n",
              "\n",
              "                TypeName  \n",
              "608   2 in 1 Convertible  \n",
              "463             Notebook  \n",
              "509               Gaming  \n",
              "1216            Notebook  \n",
              "311            Ultrabook  "
            ],
            "text/html": [
              "\n",
              "  <div id=\"df-fb8b8730-ac42-4ea8-8030-1bee76c6ec25\">\n",
              "    <div class=\"colab-df-container\">\n",
              "      <div>\n",
              "<style scoped>\n",
              "    .dataframe tbody tr th:only-of-type {\n",
              "        vertical-align: middle;\n",
              "    }\n",
              "\n",
              "    .dataframe tbody tr th {\n",
              "        vertical-align: top;\n",
              "    }\n",
              "\n",
              "    .dataframe thead th {\n",
              "        text-align: right;\n",
              "    }\n",
              "</style>\n",
              "<table border=\"1\" class=\"dataframe\">\n",
              "  <thead>\n",
              "    <tr style=\"text-align: right;\">\n",
              "      <th></th>\n",
              "      <th>Company</th>\n",
              "      <th>Ram</th>\n",
              "      <th>Memory</th>\n",
              "      <th>OpSys</th>\n",
              "      <th>ScreenResolution</th>\n",
              "      <th>Inches</th>\n",
              "      <th>TypeName</th>\n",
              "    </tr>\n",
              "  </thead>\n",
              "  <tbody>\n",
              "    <tr>\n",
              "      <th>608</th>\n",
              "      <td>Lenovo</td>\n",
              "      <td>8GB</td>\n",
              "      <td>256GB SSD</td>\n",
              "      <td>Windows 10</td>\n",
              "      <td>IPS Panel Full HD / Touchscreen 1920x1080</td>\n",
              "      <td>15.6</td>\n",
              "      <td>2 in 1 Convertible</td>\n",
              "    </tr>\n",
              "    <tr>\n",
              "      <th>463</th>\n",
              "      <td>Lenovo</td>\n",
              "      <td>8GB</td>\n",
              "      <td>512GB SSD</td>\n",
              "      <td>No OS</td>\n",
              "      <td>IPS Panel Full HD 1920x1080</td>\n",
              "      <td>14.0</td>\n",
              "      <td>Notebook</td>\n",
              "    </tr>\n",
              "    <tr>\n",
              "      <th>509</th>\n",
              "      <td>Lenovo</td>\n",
              "      <td>8GB</td>\n",
              "      <td>256GB SSD +  1TB HDD</td>\n",
              "      <td>No OS</td>\n",
              "      <td>IPS Panel Full HD 1920x1080</td>\n",
              "      <td>15.6</td>\n",
              "      <td>Gaming</td>\n",
              "    </tr>\n",
              "    <tr>\n",
              "      <th>1216</th>\n",
              "      <td>Acer</td>\n",
              "      <td>4GB</td>\n",
              "      <td>1TB HDD</td>\n",
              "      <td>Windows 10</td>\n",
              "      <td>1600x900</td>\n",
              "      <td>17.3</td>\n",
              "      <td>Notebook</td>\n",
              "    </tr>\n",
              "    <tr>\n",
              "      <th>311</th>\n",
              "      <td>Dell</td>\n",
              "      <td>16GB</td>\n",
              "      <td>1TB SSD</td>\n",
              "      <td>Windows 10</td>\n",
              "      <td>IPS Panel 4K Ultra HD / Touchscreen 3840x2160</td>\n",
              "      <td>13.3</td>\n",
              "      <td>Ultrabook</td>\n",
              "    </tr>\n",
              "  </tbody>\n",
              "</table>\n",
              "</div>\n",
              "      <button class=\"colab-df-convert\" onclick=\"convertToInteractive('df-fb8b8730-ac42-4ea8-8030-1bee76c6ec25')\"\n",
              "              title=\"Convert this dataframe to an interactive table.\"\n",
              "              style=\"display:none;\">\n",
              "        \n",
              "  <svg xmlns=\"http://www.w3.org/2000/svg\" height=\"24px\"viewBox=\"0 0 24 24\"\n",
              "       width=\"24px\">\n",
              "    <path d=\"M0 0h24v24H0V0z\" fill=\"none\"/>\n",
              "    <path d=\"M18.56 5.44l.94 2.06.94-2.06 2.06-.94-2.06-.94-.94-2.06-.94 2.06-2.06.94zm-11 1L8.5 8.5l.94-2.06 2.06-.94-2.06-.94L8.5 2.5l-.94 2.06-2.06.94zm10 10l.94 2.06.94-2.06 2.06-.94-2.06-.94-.94-2.06-.94 2.06-2.06.94z\"/><path d=\"M17.41 7.96l-1.37-1.37c-.4-.4-.92-.59-1.43-.59-.52 0-1.04.2-1.43.59L10.3 9.45l-7.72 7.72c-.78.78-.78 2.05 0 2.83L4 21.41c.39.39.9.59 1.41.59.51 0 1.02-.2 1.41-.59l7.78-7.78 2.81-2.81c.8-.78.8-2.07 0-2.86zM5.41 20L4 18.59l7.72-7.72 1.47 1.35L5.41 20z\"/>\n",
              "  </svg>\n",
              "      </button>\n",
              "      \n",
              "  <style>\n",
              "    .colab-df-container {\n",
              "      display:flex;\n",
              "      flex-wrap:wrap;\n",
              "      gap: 12px;\n",
              "    }\n",
              "\n",
              "    .colab-df-convert {\n",
              "      background-color: #E8F0FE;\n",
              "      border: none;\n",
              "      border-radius: 50%;\n",
              "      cursor: pointer;\n",
              "      display: none;\n",
              "      fill: #1967D2;\n",
              "      height: 32px;\n",
              "      padding: 0 0 0 0;\n",
              "      width: 32px;\n",
              "    }\n",
              "\n",
              "    .colab-df-convert:hover {\n",
              "      background-color: #E2EBFA;\n",
              "      box-shadow: 0px 1px 2px rgba(60, 64, 67, 0.3), 0px 1px 3px 1px rgba(60, 64, 67, 0.15);\n",
              "      fill: #174EA6;\n",
              "    }\n",
              "\n",
              "    [theme=dark] .colab-df-convert {\n",
              "      background-color: #3B4455;\n",
              "      fill: #D2E3FC;\n",
              "    }\n",
              "\n",
              "    [theme=dark] .colab-df-convert:hover {\n",
              "      background-color: #434B5C;\n",
              "      box-shadow: 0px 1px 3px 1px rgba(0, 0, 0, 0.15);\n",
              "      filter: drop-shadow(0px 1px 2px rgba(0, 0, 0, 0.3));\n",
              "      fill: #FFFFFF;\n",
              "    }\n",
              "  </style>\n",
              "\n",
              "      <script>\n",
              "        const buttonEl =\n",
              "          document.querySelector('#df-fb8b8730-ac42-4ea8-8030-1bee76c6ec25 button.colab-df-convert');\n",
              "        buttonEl.style.display =\n",
              "          google.colab.kernel.accessAllowed ? 'block' : 'none';\n",
              "\n",
              "        async function convertToInteractive(key) {\n",
              "          const element = document.querySelector('#df-fb8b8730-ac42-4ea8-8030-1bee76c6ec25');\n",
              "          const dataTable =\n",
              "            await google.colab.kernel.invokeFunction('convertToInteractive',\n",
              "                                                     [key], {});\n",
              "          if (!dataTable) return;\n",
              "\n",
              "          const docLinkHtml = 'Like what you see? Visit the ' +\n",
              "            '<a target=\"_blank\" href=https://colab.research.google.com/notebooks/data_table.ipynb>data table notebook</a>'\n",
              "            + ' to learn more about interactive tables.';\n",
              "          element.innerHTML = '';\n",
              "          dataTable['output_type'] = 'display_data';\n",
              "          await google.colab.output.renderOutput(dataTable, element);\n",
              "          const docLink = document.createElement('div');\n",
              "          docLink.innerHTML = docLinkHtml;\n",
              "          element.appendChild(docLink);\n",
              "        }\n",
              "      </script>\n",
              "    </div>\n",
              "  </div>\n",
              "  "
            ]
          },
          "metadata": {},
          "execution_count": 96
        }
      ],
      "source": [
        "qualitative.sample(5)"
      ]
    },
    {
      "cell_type": "markdown",
      "id": "d32740fd",
      "metadata": {
        "papermill": {
          "duration": 0.022216,
          "end_time": "2022-12-05T15:04:27.033442",
          "exception": false,
          "start_time": "2022-12-05T15:04:27.011226",
          "status": "completed"
        },
        "tags": [],
        "id": "d32740fd"
      },
      "source": [
        "**COMPANY**"
      ]
    },
    {
      "cell_type": "code",
      "execution_count": null,
      "id": "18af2bf5",
      "metadata": {
        "execution": {
          "iopub.execute_input": "2022-12-05T15:04:27.080217Z",
          "iopub.status.busy": "2022-12-05T15:04:27.079593Z",
          "iopub.status.idle": "2022-12-05T15:04:27.086216Z",
          "shell.execute_reply": "2022-12-05T15:04:27.085621Z"
        },
        "papermill": {
          "duration": 0.032286,
          "end_time": "2022-12-05T15:04:27.088062",
          "exception": false,
          "start_time": "2022-12-05T15:04:27.055776",
          "status": "completed"
        },
        "tags": [],
        "id": "18af2bf5",
        "outputId": "a8f2dad1-af05-4f84-eb22-e6fc5d4bc5b6",
        "colab": {
          "base_uri": "https://localhost:8080/"
        }
      },
      "outputs": [
        {
          "output_type": "execute_result",
          "data": {
            "text/plain": [
              "Dell         297\n",
              "Lenovo       297\n",
              "HP           274\n",
              "Asus         158\n",
              "Acer         103\n",
              "MSI           54\n",
              "Toshiba       48\n",
              "Apple         21\n",
              "Samsung        9\n",
              "Razer          7\n",
              "Mediacom       7\n",
              "Microsoft      6\n",
              "Xiaomi         4\n",
              "Vero           4\n",
              "Chuwi          3\n",
              "Google         3\n",
              "Fujitsu        3\n",
              "LG             3\n",
              "Huawei         2\n",
              "Name: Company, dtype: int64"
            ]
          },
          "metadata": {},
          "execution_count": 97
        }
      ],
      "source": [
        "data['Company'].value_counts()"
      ]
    },
    {
      "cell_type": "code",
      "execution_count": null,
      "id": "62e40285",
      "metadata": {
        "execution": {
          "iopub.execute_input": "2022-12-05T15:04:27.135971Z",
          "iopub.status.busy": "2022-12-05T15:04:27.135360Z",
          "iopub.status.idle": "2022-12-05T15:04:27.140911Z",
          "shell.execute_reply": "2022-12-05T15:04:27.139922Z"
        },
        "papermill": {
          "duration": 0.032483,
          "end_time": "2022-12-05T15:04:27.143412",
          "exception": false,
          "start_time": "2022-12-05T15:04:27.110929",
          "status": "completed"
        },
        "tags": [],
        "id": "62e40285"
      },
      "outputs": [],
      "source": [
        "def reduce_company(name):\n",
        "    big_companies=['Dell','Lenovo','HP','Asus','Acer','MSI','Toshiba','Apple']\n",
        "    if name not in big_companies:\n",
        "        return 'others'\n",
        "    else:\n",
        "        return name"
      ]
    },
    {
      "cell_type": "code",
      "execution_count": null,
      "id": "8271a035",
      "metadata": {
        "execution": {
          "iopub.execute_input": "2022-12-05T15:04:27.193159Z",
          "iopub.status.busy": "2022-12-05T15:04:27.192549Z",
          "iopub.status.idle": "2022-12-05T15:04:27.202390Z",
          "shell.execute_reply": "2022-12-05T15:04:27.200945Z"
        },
        "papermill": {
          "duration": 0.038623,
          "end_time": "2022-12-05T15:04:27.205184",
          "exception": false,
          "start_time": "2022-12-05T15:04:27.166561",
          "status": "completed"
        },
        "tags": [],
        "id": "8271a035",
        "outputId": "6ef3af0a-5ea2-4617-8c47-bcc6c5ff06a7",
        "colab": {
          "base_uri": "https://localhost:8080/"
        }
      },
      "outputs": [
        {
          "output_type": "execute_result",
          "data": {
            "text/plain": [
              "Dell       297\n",
              "Lenovo     297\n",
              "HP         274\n",
              "Asus       158\n",
              "Acer       103\n",
              "MSI         54\n",
              "others      51\n",
              "Toshiba     48\n",
              "Apple       21\n",
              "Name: Company, dtype: int64"
            ]
          },
          "metadata": {},
          "execution_count": 99
        }
      ],
      "source": [
        "data['Company']=data['Company'].apply(lambda x:reduce_company(x))\n",
        "data['Company'].value_counts()"
      ]
    },
    {
      "cell_type": "code",
      "execution_count": null,
      "id": "acadad73",
      "metadata": {
        "execution": {
          "iopub.execute_input": "2022-12-05T15:04:27.252416Z",
          "iopub.status.busy": "2022-12-05T15:04:27.251886Z",
          "iopub.status.idle": "2022-12-05T15:04:27.729403Z",
          "shell.execute_reply": "2022-12-05T15:04:27.728556Z"
        },
        "papermill": {
          "duration": 0.503212,
          "end_time": "2022-12-05T15:04:27.731251",
          "exception": false,
          "start_time": "2022-12-05T15:04:27.228039",
          "status": "completed"
        },
        "tags": [],
        "id": "acadad73",
        "outputId": "b57fb493-abfa-43d9-a2d0-55f68012b7ba",
        "colab": {
          "base_uri": "https://localhost:8080/",
          "height": 297
        }
      },
      "outputs": [
        {
          "output_type": "execute_result",
          "data": {
            "text/plain": [
              "<matplotlib.axes._subplots.AxesSubplot at 0x7f327055aa90>"
            ]
          },
          "metadata": {},
          "execution_count": 100
        },
        {
          "output_type": "display_data",
          "data": {
            "text/plain": [
              "<Figure size 432x288 with 1 Axes>"
            ],
            "image/png": "[encoded data removed]"
          },
          "metadata": {
            "needs_background": "light"
          }
        }
      ],
      "source": [
        "sns.barplot(x='Company',y='Price',data=data)"
      ]
    },
    {
      "cell_type": "markdown",
      "id": "a9e9f9ee",
      "metadata": {
        "papermill": {
          "duration": 0.022587,
          "end_time": "2022-12-05T15:04:27.776987",
          "exception": false,
          "start_time": "2022-12-05T15:04:27.754400",
          "status": "completed"
        },
        "tags": [],
        "id": "a9e9f9ee"
      },
      "source": [
        "**RAM**"
      ]
    },
    {
      "cell_type": "code",
      "execution_count": null,
      "id": "e82998bb",
      "metadata": {
        "execution": {
          "iopub.execute_input": "2022-12-05T15:04:27.824721Z",
          "iopub.status.busy": "2022-12-05T15:04:27.824297Z",
          "iopub.status.idle": "2022-12-05T15:04:27.832895Z",
          "shell.execute_reply": "2022-12-05T15:04:27.831533Z"
        },
        "papermill": {
          "duration": 0.035352,
          "end_time": "2022-12-05T15:04:27.835402",
          "exception": false,
          "start_time": "2022-12-05T15:04:27.800050",
          "status": "completed"
        },
        "tags": [],
        "id": "e82998bb",
        "outputId": "5375fa2e-f0fd-4da8-c519-6eb9f2fce088",
        "colab": {
          "base_uri": "https://localhost:8080/"
        }
      },
      "outputs": [
        {
          "output_type": "execute_result",
          "data": {
            "text/plain": [
              "8GB     619\n",
              "4GB     375\n",
              "16GB    200\n",
              "6GB      41\n",
              "12GB     25\n",
              "2GB      22\n",
              "32GB     17\n",
              "24GB      3\n",
              "64GB      1\n",
              "Name: Ram, dtype: int64"
            ]
          },
          "metadata": {},
          "execution_count": 101
        }
      ],
      "source": [
        "data['Ram'].value_counts()"
      ]
    },
    {
      "cell_type": "code",
      "execution_count": null,
      "id": "b414fd67",
      "metadata": {
        "execution": {
          "iopub.execute_input": "2022-12-05T15:04:27.883228Z",
          "iopub.status.busy": "2022-12-05T15:04:27.882826Z",
          "iopub.status.idle": "2022-12-05T15:04:28.229770Z",
          "shell.execute_reply": "2022-12-05T15:04:28.228403Z"
        },
        "papermill": {
          "duration": 0.374197,
          "end_time": "2022-12-05T15:04:28.232481",
          "exception": false,
          "start_time": "2022-12-05T15:04:27.858284",
          "status": "completed"
        },
        "tags": [],
        "id": "b414fd67",
        "outputId": "38a6973c-ddf7-4ff7-deae-76cda545e431",
        "colab": {
          "base_uri": "https://localhost:8080/",
          "height": 297
        }
      },
      "outputs": [
        {
          "output_type": "execute_result",
          "data": {
            "text/plain": [
              "<matplotlib.axes._subplots.AxesSubplot at 0x7f32702a02b0>"
            ]
          },
          "metadata": {},
          "execution_count": 102
        },
        {
          "output_type": "display_data",
          "data": {
            "text/plain": [
              "<Figure size 432x288 with 1 Axes>"
            ],
            "image/png": "[encoded data removed]"
          },
          "metadata": {
            "needs_background": "light"
          }
        }
      ],
      "source": [
        "data['Ram']=data['Ram'].str.replace(\"GB\",'').astype(int)\n",
        "sns.barplot(x='Ram',y='Price',data=data)"
      ]
    },
    {
      "cell_type": "markdown",
      "id": "c4c66f29",
      "metadata": {
        "papermill": {
          "duration": 0.023712,
          "end_time": "2022-12-05T15:04:28.280719",
          "exception": false,
          "start_time": "2022-12-05T15:04:28.257007",
          "status": "completed"
        },
        "tags": [],
        "id": "c4c66f29"
      },
      "source": [
        "**MEMORY**"
      ]
    },
    {
      "cell_type": "code",
      "execution_count": null,
      "id": "91e1e8e2",
      "metadata": {
        "execution": {
          "iopub.execute_input": "2022-12-05T15:04:28.329377Z",
          "iopub.status.busy": "2022-12-05T15:04:28.329011Z",
          "iopub.status.idle": "2022-12-05T15:04:28.337460Z",
          "shell.execute_reply": "2022-12-05T15:04:28.336532Z"
        },
        "papermill": {
          "duration": 0.035922,
          "end_time": "2022-12-05T15:04:28.339870",
          "exception": false,
          "start_time": "2022-12-05T15:04:28.303948",
          "status": "completed"
        },
        "tags": [],
        "id": "91e1e8e2",
        "outputId": "b42bdd4f-ad0a-4c3c-8b93-7f55d1b3e76e",
        "colab": {
          "base_uri": "https://localhost:8080/"
        }
      },
      "outputs": [
        {
          "output_type": "execute_result",
          "data": {
            "text/plain": [
              "256GB SSD                        412\n",
              "1TB HDD                          223\n",
              "500GB HDD                        132\n",
              "512GB SSD                        118\n",
              "128GB SSD +  1TB HDD              94\n",
              "128GB SSD                         76\n",
              "256GB SSD +  1TB HDD              73\n",
              "32GB Flash Storage                38\n",
              "2TB HDD                           16\n",
              "64GB Flash Storage                15\n",
              "512GB SSD +  1TB HDD              14\n",
              "1TB SSD                           14\n",
              "256GB SSD +  2TB HDD              10\n",
              "1.0TB Hybrid                       9\n",
              "256GB Flash Storage                8\n",
              "16GB Flash Storage                 7\n",
              "32GB SSD                           6\n",
              "180GB SSD                          5\n",
              "128GB Flash Storage                4\n",
              "512GB SSD +  2TB HDD               3\n",
              "16GB SSD                           3\n",
              "512GB Flash Storage                2\n",
              "1TB SSD +  1TB HDD                 2\n",
              "256GB SSD +  500GB HDD             2\n",
              "128GB SSD +  2TB HDD               2\n",
              "256GB SSD +  256GB SSD             2\n",
              "512GB SSD +  256GB SSD             1\n",
              "512GB SSD +  512GB SSD             1\n",
              "64GB Flash Storage +  1TB HDD      1\n",
              "1TB HDD +  1TB HDD                 1\n",
              "32GB HDD                           1\n",
              "64GB SSD                           1\n",
              "128GB HDD                          1\n",
              "240GB SSD                          1\n",
              "8GB SSD                            1\n",
              "508GB Hybrid                       1\n",
              "1.0TB HDD                          1\n",
              "512GB SSD +  1.0TB Hybrid          1\n",
              "256GB SSD +  1.0TB Hybrid          1\n",
              "Name: Memory, dtype: int64"
            ]
          },
          "metadata": {},
          "execution_count": 103
        }
      ],
      "source": [
        "data['Memory'].value_counts()"
      ]
    },
    {
      "cell_type": "code",
      "execution_count": null,
      "id": "70038246",
      "metadata": {
        "execution": {
          "iopub.execute_input": "2022-12-05T15:04:28.390632Z",
          "iopub.status.busy": "2022-12-05T15:04:28.390248Z",
          "iopub.status.idle": "2022-12-05T15:04:28.398905Z",
          "shell.execute_reply": "2022-12-05T15:04:28.397544Z"
        },
        "papermill": {
          "duration": 0.036705,
          "end_time": "2022-12-05T15:04:28.400894",
          "exception": false,
          "start_time": "2022-12-05T15:04:28.364189",
          "status": "completed"
        },
        "tags": [],
        "id": "70038246"
      },
      "outputs": [],
      "source": [
        "data['Memory']=data['Memory'].str.replace('TB','000')\n",
        "data['Memory'] = data['Memory'].str.replace('GB','')"
      ]
    },
    {
      "cell_type": "code",
      "execution_count": null,
      "id": "55051f81",
      "metadata": {
        "execution": {
          "iopub.execute_input": "2022-12-05T15:04:28.449951Z",
          "iopub.status.busy": "2022-12-05T15:04:28.449546Z",
          "iopub.status.idle": "2022-12-05T15:04:28.484691Z",
          "shell.execute_reply": "2022-12-05T15:04:28.483586Z"
        },
        "papermill": {
          "duration": 0.062378,
          "end_time": "2022-12-05T15:04:28.487208",
          "exception": false,
          "start_time": "2022-12-05T15:04:28.424830",
          "status": "completed"
        },
        "tags": [],
        "id": "55051f81"
      },
      "outputs": [],
      "source": [
        "num = data['Memory'].str.split(\"+\",n=1,expand=True)\n",
        "num.sample(10)\n",
        "data['First'] = num[0]\n",
        "data['Second']=num[1]\n",
        "data['Second'] = data['Second'].apply(lambda x:0 if x is None else x)\n",
        "\n",
        "data['HDD1']=data['First'].apply(lambda x: int(float(x.split()[0])) if 'HDD' in x else 0)\n",
        "data['HDD2']=  data['Second'].apply(lambda x: int(float(x.split()[0])) if 'HDD' in str(x) else 0)  \n",
        "data['HDD'] = data['HDD1']+data['HDD2']\n",
        "\n",
        "data['SSD1']=data['First'].apply(lambda x: int(float(x.split()[0])) if 'SSD' in x else 0)\n",
        "data['SSD2']=  data['Second'].apply(lambda x: int(float(x.split()[0])) if 'SSD' in str(x) else 0) \n",
        "data['SSD'] = data['SSD1']+data['SSD2']\n",
        "\n",
        "data['Flash1']=data['First'].apply(lambda x: int(float(x.split()[0])) if 'Flash' in x else 0)\n",
        "data['Flash2']=  data['Second'].apply(lambda x: int(float(x.split()[0])) if 'Flash' in str(x) else 0) \n",
        "data['Flash'] = data['Flash1']+data['Flash2']\n",
        "\n",
        "data['Hybrid1']=data['First'].apply(lambda x: int(float(x.split()[0])) if 'Hybrid' in x else 0)\n",
        "data['Hybrid2']=  data['Second'].apply(lambda x: int(float(x.split()[0])) if 'Hybrid' in str(x) else 0) \n",
        "data['Hybrid'] = data['Hybrid1']+data['Hybrid2']\n",
        "\n",
        "data.drop(columns=['HDD1','HDD2','SSD1','SSD2','Flash1','Flash2','Hybrid1',\"Hybrid2\",'First','Second','Memory'],inplace=True)"
      ]
    },
    {
      "cell_type": "code",
      "execution_count": null,
      "id": "7f3184e7",
      "metadata": {
        "execution": {
          "iopub.execute_input": "2022-12-05T15:04:28.536120Z",
          "iopub.status.busy": "2022-12-05T15:04:28.535720Z",
          "iopub.status.idle": "2022-12-05T15:04:28.554961Z",
          "shell.execute_reply": "2022-12-05T15:04:28.553907Z"
        },
        "papermill": {
          "duration": 0.046451,
          "end_time": "2022-12-05T15:04:28.557028",
          "exception": false,
          "start_time": "2022-12-05T15:04:28.510577",
          "status": "completed"
        },
        "tags": [],
        "id": "7f3184e7",
        "outputId": "cfe7c9d9-ee79-499f-c4d7-e7da3d6e9a3e",
        "colab": {
          "base_uri": "https://localhost:8080/",
          "height": 667
        }
      },
      "outputs": [
        {
          "output_type": "execute_result",
          "data": {
            "text/plain": [
              "     Company            TypeName  Inches  \\\n",
              "292       HP            Notebook    17.3   \n",
              "770     Dell            Notebook    15.6   \n",
              "1274    Asus            Notebook    15.6   \n",
              "565     Dell           Ultrabook    13.3   \n",
              "1288    Asus            Notebook    15.6   \n",
              "1102    Acer            Notebook    15.6   \n",
              "429   others  2 in 1 Convertible    11.6   \n",
              "1242    Acer            Notebook    15.6   \n",
              "344     Dell           Ultrabook    13.3   \n",
              "781     Asus              Gaming    17.3   \n",
              "\n",
              "                                   ScreenResolution  \\\n",
              "292                                        1600x900   \n",
              "770                               Full HD 1920x1080   \n",
              "1274                                       1366x768   \n",
              "565   IPS Panel 4K Ultra HD / Touchscreen 3840x2160   \n",
              "1288                                       1366x768   \n",
              "1102                                       1366x768   \n",
              "429       IPS Panel Full HD / Touchscreen 1920x1080   \n",
              "1242                                       1366x768   \n",
              "344                               Full HD 1920x1080   \n",
              "781                     IPS Panel Full HD 1920x1080   \n",
              "\n",
              "                                       Cpu  Ram                      Gpu  \\\n",
              "292               Intel Core i3 6006U 2GHz    8    Intel HD Graphics 520   \n",
              "770             Intel Core i7 7500U 2.7GHz   16       AMD Radeon R7 M445   \n",
              "1274  Intel Celeron Dual Core N3050 1.6GHz    4        Intel HD Graphics   \n",
              "565             Intel Core i5 8250U 1.6GHz    8   Intel UHD Graphics 620   \n",
              "1288  Intel Celeron Dual Core N3050 1.6GHz    4        Intel HD Graphics   \n",
              "1102  Intel Celeron Dual Core 3205U 1.5GHz    4        Intel HD Graphics   \n",
              "429   Intel Celeron Dual Core N3350 1.1GHz    4    Intel HD Graphics 500   \n",
              "1242            Intel Core i3 6006U 2.0GHz    4    Intel HD Graphics 520   \n",
              "344             Intel Core i7 8550U 1.8GHz    8   Intel UHD Graphics 620   \n",
              "781            Intel Core i7 6700HQ 2.6GHz   16  Nvidia GeForce GTX 1070   \n",
              "\n",
              "           OpSys  Weight        Price   HDD  SSD  Flash  Hybrid  \n",
              "292   Windows 10  2.54kg   26053.9200  1000    0      0       0  \n",
              "770   Windows 10   2.3kg   62938.0656     0  256      0       0  \n",
              "1274  Windows 10   2.2kg   19660.3200   500    0      0       0  \n",
              "565   Windows 10  1.21kg   85194.7200     0  128      0       0  \n",
              "1288  Windows 10   2.2kg   19660.3200   500    0      0       0  \n",
              "1102   Chrome OS  2.20kg   11135.5200     0   16      0       0  \n",
              "429   Windows 10  1.16kg   15930.7200     0   32      0       0  \n",
              "1242       Linux   2.4kg   19276.7040   500    0      0       0  \n",
              "344   Windows 10   1.2kg   84129.1200     0  256      0       0  \n",
              "781   Windows 10   4.3kg  125208.0000  1000  256      0       0  "
            ],
            "text/html": [
              "\n",
              "  <div id=\"df-b4a5f561-7041-4d1c-a996-c295ba8a30b9\">\n",
              "    <div class=\"colab-df-container\">\n",
              "      <div>\n",
              "<style scoped>\n",
              "    .dataframe tbody tr th:only-of-type {\n",
              "        vertical-align: middle;\n",
              "    }\n",
              "\n",
              "    .dataframe tbody tr th {\n",
              "        vertical-align: top;\n",
              "    }\n",
              "\n",
              "    .dataframe thead th {\n",
              "        text-align: right;\n",
              "    }\n",
              "</style>\n",
              "<table border=\"1\" class=\"dataframe\">\n",
              "  <thead>\n",
              "    <tr style=\"text-align: right;\">\n",
              "      <th></th>\n",
              "      <th>Company</th>\n",
              "      <th>TypeName</th>\n",
              "      <th>Inches</th>\n",
              "      <th>ScreenResolution</th>\n",
              "      <th>Cpu</th>\n",
              "      <th>Ram</th>\n",
              "      <th>Gpu</th>\n",
              "      <th>OpSys</th>\n",
              "      <th>Weight</th>\n",
              "      <th>Price</th>\n",
              "      <th>HDD</th>\n",
              "      <th>SSD</th>\n",
              "      <th>Flash</th>\n",
              "      <th>Hybrid</th>\n",
              "    </tr>\n",
              "  </thead>\n",
              "  <tbody>\n",
              "    <tr>\n",
              "      <th>292</th>\n",
              "      <td>HP</td>\n",
              "      <td>Notebook</td>\n",
              "      <td>17.3</td>\n",
              "      <td>1600x900</td>\n",
              "      <td>Intel Core i3 6006U 2GHz</td>\n",
              "      <td>8</td>\n",
              "      <td>Intel HD Graphics 520</td>\n",
              "      <td>Windows 10</td>\n",
              "      <td>2.54kg</td>\n",
              "      <td>26053.9200</td>\n",
              "      <td>1000</td>\n",
              "      <td>0</td>\n",
              "      <td>0</td>\n",
              "      <td>0</td>\n",
              "    </tr>\n",
              "    <tr>\n",
              "      <th>770</th>\n",
              "      <td>Dell</td>\n",
              "      <td>Notebook</td>\n",
              "      <td>15.6</td>\n",
              "      <td>Full HD 1920x1080</td>\n",
              "      <td>Intel Core i7 7500U 2.7GHz</td>\n",
              "      <td>16</td>\n",
              "      <td>AMD Radeon R7 M445</td>\n",
              "      <td>Windows 10</td>\n",
              "      <td>2.3kg</td>\n",
              "      <td>62938.0656</td>\n",
              "      <td>0</td>\n",
              "      <td>256</td>\n",
              "      <td>0</td>\n",
              "      <td>0</td>\n",
              "    </tr>\n",
              "    <tr>\n",
              "      <th>1274</th>\n",
              "      <td>Asus</td>\n",
              "      <td>Notebook</td>\n",
              "      <td>15.6</td>\n",
              "      <td>1366x768</td>\n",
              "      <td>Intel Celeron Dual Core N3050 1.6GHz</td>\n",
              "      <td>4</td>\n",
              "      <td>Intel HD Graphics</td>\n",
              "      <td>Windows 10</td>\n",
              "      <td>2.2kg</td>\n",
              "      <td>19660.3200</td>\n",
              "      <td>500</td>\n",
              "      <td>0</td>\n",
              "      <td>0</td>\n",
              "      <td>0</td>\n",
              "    </tr>\n",
              "    <tr>\n",
              "      <th>565</th>\n",
              "      <td>Dell</td>\n",
              "      <td>Ultrabook</td>\n",
              "      <td>13.3</td>\n",
              "      <td>IPS Panel 4K Ultra HD / Touchscreen 3840x2160</td>\n",
              "      <td>Intel Core i5 8250U 1.6GHz</td>\n",
              "      <td>8</td>\n",
              "      <td>Intel UHD Graphics 620</td>\n",
              "      <td>Windows 10</td>\n",
              "      <td>1.21kg</td>\n",
              "      <td>85194.7200</td>\n",
              "      <td>0</td>\n",
              "      <td>128</td>\n",
              "      <td>0</td>\n",
              "      <td>0</td>\n",
              "    </tr>\n",
              "    <tr>\n",
              "      <th>1288</th>\n",
              "      <td>Asus</td>\n",
              "      <td>Notebook</td>\n",
              "      <td>15.6</td>\n",
              "      <td>1366x768</td>\n",
              "      <td>Intel Celeron Dual Core N3050 1.6GHz</td>\n",
              "      <td>4</td>\n",
              "      <td>Intel HD Graphics</td>\n",
              "      <td>Windows 10</td>\n",
              "      <td>2.2kg</td>\n",
              "      <td>19660.3200</td>\n",
              "      <td>500</td>\n",
              "      <td>0</td>\n",
              "      <td>0</td>\n",
              "      <td>0</td>\n",
              "    </tr>\n",
              "    <tr>\n",
              "      <th>1102</th>\n",
              "      <td>Acer</td>\n",
              "      <td>Notebook</td>\n",
              "      <td>15.6</td>\n",
              "      <td>1366x768</td>\n",
              "      <td>Intel Celeron Dual Core 3205U 1.5GHz</td>\n",
              "      <td>4</td>\n",
              "      <td>Intel HD Graphics</td>\n",
              "      <td>Chrome OS</td>\n",
              "      <td>2.20kg</td>\n",
              "      <td>11135.5200</td>\n",
              "      <td>0</td>\n",
              "      <td>16</td>\n",
              "      <td>0</td>\n",
              "      <td>0</td>\n",
              "    </tr>\n",
              "    <tr>\n",
              "      <th>429</th>\n",
              "      <td>others</td>\n",
              "      <td>2 in 1 Convertible</td>\n",
              "      <td>11.6</td>\n",
              "      <td>IPS Panel Full HD / Touchscreen 1920x1080</td>\n",
              "      <td>Intel Celeron Dual Core N3350 1.1GHz</td>\n",
              "      <td>4</td>\n",
              "      <td>Intel HD Graphics 500</td>\n",
              "      <td>Windows 10</td>\n",
              "      <td>1.16kg</td>\n",
              "      <td>15930.7200</td>\n",
              "      <td>0</td>\n",
              "      <td>32</td>\n",
              "      <td>0</td>\n",
              "      <td>0</td>\n",
              "    </tr>\n",
              "    <tr>\n",
              "      <th>1242</th>\n",
              "      <td>Acer</td>\n",
              "      <td>Notebook</td>\n",
              "      <td>15.6</td>\n",
              "      <td>1366x768</td>\n",
              "      <td>Intel Core i3 6006U 2.0GHz</td>\n",
              "      <td>4</td>\n",
              "      <td>Intel HD Graphics 520</td>\n",
              "      <td>Linux</td>\n",
              "      <td>2.4kg</td>\n",
              "      <td>19276.7040</td>\n",
              "      <td>500</td>\n",
              "      <td>0</td>\n",
              "      <td>0</td>\n",
              "      <td>0</td>\n",
              "    </tr>\n",
              "    <tr>\n",
              "      <th>344</th>\n",
              "      <td>Dell</td>\n",
              "      <td>Ultrabook</td>\n",
              "      <td>13.3</td>\n",
              "      <td>Full HD 1920x1080</td>\n",
              "      <td>Intel Core i7 8550U 1.8GHz</td>\n",
              "      <td>8</td>\n",
              "      <td>Intel UHD Graphics 620</td>\n",
              "      <td>Windows 10</td>\n",
              "      <td>1.2kg</td>\n",
              "      <td>84129.1200</td>\n",
              "      <td>0</td>\n",
              "      <td>256</td>\n",
              "      <td>0</td>\n",
              "      <td>0</td>\n",
              "    </tr>\n",
              "    <tr>\n",
              "      <th>781</th>\n",
              "      <td>Asus</td>\n",
              "      <td>Gaming</td>\n",
              "      <td>17.3</td>\n",
              "      <td>IPS Panel Full HD 1920x1080</td>\n",
              "      <td>Intel Core i7 6700HQ 2.6GHz</td>\n",
              "      <td>16</td>\n",
              "      <td>Nvidia GeForce GTX 1070</td>\n",
              "      <td>Windows 10</td>\n",
              "      <td>4.3kg</td>\n",
              "      <td>125208.0000</td>\n",
              "      <td>1000</td>\n",
              "      <td>256</td>\n",
              "      <td>0</td>\n",
              "      <td>0</td>\n",
              "    </tr>\n",
              "  </tbody>\n",
              "</table>\n",
              "</div>\n",
              "      <button class=\"colab-df-convert\" onclick=\"convertToInteractive('df-b4a5f561-7041-4d1c-a996-c295ba8a30b9')\"\n",
              "              title=\"Convert this dataframe to an interactive table.\"\n",
              "              style=\"display:none;\">\n",
              "        \n",
              "  <svg xmlns=\"http://www.w3.org/2000/svg\" height=\"24px\"viewBox=\"0 0 24 24\"\n",
              "       width=\"24px\">\n",
              "    <path d=\"M0 0h24v24H0V0z\" fill=\"none\"/>\n",
              "    <path d=\"M18.56 5.44l.94 2.06.94-2.06 2.06-.94-2.06-.94-.94-2.06-.94 2.06-2.06.94zm-11 1L8.5 8.5l.94-2.06 2.06-.94-2.06-.94L8.5 2.5l-.94 2.06-2.06.94zm10 10l.94 2.06.94-2.06 2.06-.94-2.06-.94-.94-2.06-.94 2.06-2.06.94z\"/><path d=\"M17.41 7.96l-1.37-1.37c-.4-.4-.92-.59-1.43-.59-.52 0-1.04.2-1.43.59L10.3 9.45l-7.72 7.72c-.78.78-.78 2.05 0 2.83L4 21.41c.39.39.9.59 1.41.59.51 0 1.02-.2 1.41-.59l7.78-7.78 2.81-2.81c.8-.78.8-2.07 0-2.86zM5.41 20L4 18.59l7.72-7.72 1.47 1.35L5.41 20z\"/>\n",
              "  </svg>\n",
              "      </button>\n",
              "      \n",
              "  <style>\n",
              "    .colab-df-container {\n",
              "      display:flex;\n",
              "      flex-wrap:wrap;\n",
              "      gap: 12px;\n",
              "    }\n",
              "\n",
              "    .colab-df-convert {\n",
              "      background-color: #E8F0FE;\n",
              "      border: none;\n",
              "      border-radius: 50%;\n",
              "      cursor: pointer;\n",
              "      display: none;\n",
              "      fill: #1967D2;\n",
              "      height: 32px;\n",
              "      padding: 0 0 0 0;\n",
              "      width: 32px;\n",
              "    }\n",
              "\n",
              "    .colab-df-convert:hover {\n",
              "      background-color: #E2EBFA;\n",
              "      box-shadow: 0px 1px 2px rgba(60, 64, 67, 0.3), 0px 1px 3px 1px rgba(60, 64, 67, 0.15);\n",
              "      fill: #174EA6;\n",
              "    }\n",
              "\n",
              "    [theme=dark] .colab-df-convert {\n",
              "      background-color: #3B4455;\n",
              "      fill: #D2E3FC;\n",
              "    }\n",
              "\n",
              "    [theme=dark] .colab-df-convert:hover {\n",
              "      background-color: #434B5C;\n",
              "      box-shadow: 0px 1px 3px 1px rgba(0, 0, 0, 0.15);\n",
              "      filter: drop-shadow(0px 1px 2px rgba(0, 0, 0, 0.3));\n",
              "      fill: #FFFFFF;\n",
              "    }\n",
              "  </style>\n",
              "\n",
              "      <script>\n",
              "        const buttonEl =\n",
              "          document.querySelector('#df-b4a5f561-7041-4d1c-a996-c295ba8a30b9 button.colab-df-convert');\n",
              "        buttonEl.style.display =\n",
              "          google.colab.kernel.accessAllowed ? 'block' : 'none';\n",
              "\n",
              "        async function convertToInteractive(key) {\n",
              "          const element = document.querySelector('#df-b4a5f561-7041-4d1c-a996-c295ba8a30b9');\n",
              "          const dataTable =\n",
              "            await google.colab.kernel.invokeFunction('convertToInteractive',\n",
              "                                                     [key], {});\n",
              "          if (!dataTable) return;\n",
              "\n",
              "          const docLinkHtml = 'Like what you see? Visit the ' +\n",
              "            '<a target=\"_blank\" href=https://colab.research.google.com/notebooks/data_table.ipynb>data table notebook</a>'\n",
              "            + ' to learn more about interactive tables.';\n",
              "          element.innerHTML = '';\n",
              "          dataTable['output_type'] = 'display_data';\n",
              "          await google.colab.output.renderOutput(dataTable, element);\n",
              "          const docLink = document.createElement('div');\n",
              "          docLink.innerHTML = docLinkHtml;\n",
              "          element.appendChild(docLink);\n",
              "        }\n",
              "      </script>\n",
              "    </div>\n",
              "  </div>\n",
              "  "
            ]
          },
          "metadata": {},
          "execution_count": 106
        }
      ],
      "source": [
        "data.sample(10)"
      ]
    },
    {
      "cell_type": "markdown",
      "id": "2ccc868f",
      "metadata": {
        "papermill": {
          "duration": 0.024115,
          "end_time": "2022-12-05T15:04:28.605113",
          "exception": false,
          "start_time": "2022-12-05T15:04:28.580998",
          "status": "completed"
        },
        "tags": [],
        "id": "2ccc868f"
      },
      "source": [
        "**OPERATING SYSTEM**"
      ]
    },
    {
      "cell_type": "code",
      "execution_count": null,
      "id": "f50c51b4",
      "metadata": {
        "execution": {
          "iopub.execute_input": "2022-12-05T15:04:28.656531Z",
          "iopub.status.busy": "2022-12-05T15:04:28.656138Z",
          "iopub.status.idle": "2022-12-05T15:04:28.882694Z",
          "shell.execute_reply": "2022-12-05T15:04:28.881415Z"
        },
        "papermill": {
          "duration": 0.255053,
          "end_time": "2022-12-05T15:04:28.884842",
          "exception": false,
          "start_time": "2022-12-05T15:04:28.629789",
          "status": "completed"
        },
        "tags": [],
        "id": "f50c51b4",
        "outputId": "d21c8cb7-d7d8-4437-884d-de4ff849f3b3",
        "colab": {
          "base_uri": "https://localhost:8080/",
          "height": 393
        }
      },
      "outputs": [
        {
          "output_type": "display_data",
          "data": {
            "text/plain": [
              "<Figure size 720x360 with 1 Axes>"
            ],
            "image/png": "[encoded data removed]"
          },
          "metadata": {
            "needs_background": "light"
          }
        }
      ],
      "source": [
        "plt.figure(figsize=(10,5))\n",
        "sns.boxplot(x='OpSys',y='Price',data=data)\n",
        "plt.xticks(rotation='vertical')\n",
        "plt.show()"
      ]
    },
    {
      "cell_type": "markdown",
      "id": "6ed569e7",
      "metadata": {
        "papermill": {
          "duration": 0.024553,
          "end_time": "2022-12-05T15:04:28.933847",
          "exception": false,
          "start_time": "2022-12-05T15:04:28.909294",
          "status": "completed"
        },
        "tags": [],
        "id": "6ed569e7"
      },
      "source": [
        "**SCREEN RESOLUTION**"
      ]
    },
    {
      "cell_type": "code",
      "execution_count": null,
      "id": "5703c708",
      "metadata": {
        "execution": {
          "iopub.execute_input": "2022-12-05T15:04:28.985282Z",
          "iopub.status.busy": "2022-12-05T15:04:28.984321Z",
          "iopub.status.idle": "2022-12-05T15:04:28.994282Z",
          "shell.execute_reply": "2022-12-05T15:04:28.993192Z"
        },
        "papermill": {
          "duration": 0.038293,
          "end_time": "2022-12-05T15:04:28.996703",
          "exception": false,
          "start_time": "2022-12-05T15:04:28.958410",
          "status": "completed"
        },
        "tags": [],
        "id": "5703c708",
        "outputId": "e454710e-e976-49c7-cb11-0bc6c0dd32c4",
        "colab": {
          "base_uri": "https://localhost:8080/"
        }
      },
      "outputs": [
        {
          "output_type": "execute_result",
          "data": {
            "text/plain": [
              "Full HD 1920x1080                                507\n",
              "1366x768                                         281\n",
              "IPS Panel Full HD 1920x1080                      230\n",
              "IPS Panel Full HD / Touchscreen 1920x1080         53\n",
              "Full HD / Touchscreen 1920x1080                   47\n",
              "1600x900                                          23\n",
              "Touchscreen 1366x768                              16\n",
              "Quad HD+ / Touchscreen 3200x1800                  15\n",
              "IPS Panel 4K Ultra HD 3840x2160                   12\n",
              "IPS Panel 4K Ultra HD / Touchscreen 3840x2160     11\n",
              "4K Ultra HD / Touchscreen 3840x2160               10\n",
              "4K Ultra HD 3840x2160                              7\n",
              "Touchscreen 2560x1440                              7\n",
              "IPS Panel 1366x768                                 7\n",
              "IPS Panel Quad HD+ / Touchscreen 3200x1800         6\n",
              "IPS Panel Retina Display 2560x1600                 6\n",
              "IPS Panel Retina Display 2304x1440                 6\n",
              "Touchscreen 2256x1504                              6\n",
              "IPS Panel Touchscreen 2560x1440                    5\n",
              "IPS Panel Retina Display 2880x1800                 4\n",
              "IPS Panel Touchscreen 1920x1200                    4\n",
              "1440x900                                           4\n",
              "IPS Panel 2560x1440                                4\n",
              "IPS Panel Quad HD+ 2560x1440                       3\n",
              "Quad HD+ 3200x1800                                 3\n",
              "1920x1080                                          3\n",
              "Touchscreen 2400x1600                              3\n",
              "2560x1440                                          3\n",
              "IPS Panel Touchscreen 1366x768                     3\n",
              "IPS Panel Touchscreen / 4K Ultra HD 3840x2160      2\n",
              "IPS Panel Full HD 2160x1440                        2\n",
              "IPS Panel Quad HD+ 3200x1800                       2\n",
              "IPS Panel Retina Display 2736x1824                 1\n",
              "IPS Panel Full HD 1920x1200                        1\n",
              "IPS Panel Full HD 2560x1440                        1\n",
              "IPS Panel Full HD 1366x768                         1\n",
              "Touchscreen / Full HD 1920x1080                    1\n",
              "Touchscreen / Quad HD+ 3200x1800                   1\n",
              "Touchscreen / 4K Ultra HD 3840x2160                1\n",
              "IPS Panel Touchscreen 2400x1600                    1\n",
              "Name: ScreenResolution, dtype: int64"
            ]
          },
          "metadata": {},
          "execution_count": 108
        }
      ],
      "source": [
        "data['ScreenResolution'].value_counts()"
      ]
    },
    {
      "cell_type": "code",
      "execution_count": null,
      "id": "3eb137e3",
      "metadata": {
        "execution": {
          "iopub.execute_input": "2022-12-05T15:04:29.047885Z",
          "iopub.status.busy": "2022-12-05T15:04:29.047245Z",
          "iopub.status.idle": "2022-12-05T15:04:29.075342Z",
          "shell.execute_reply": "2022-12-05T15:04:29.073850Z"
        },
        "papermill": {
          "duration": 0.056294,
          "end_time": "2022-12-05T15:04:29.077923",
          "exception": false,
          "start_time": "2022-12-05T15:04:29.021629",
          "status": "completed"
        },
        "tags": [],
        "id": "3eb137e3"
      },
      "outputs": [],
      "source": [
        "data['IPS'] = data['ScreenResolution'].apply(lambda x : 1 if 'IPS' in x else 0)\n",
        "data['TouchScreen'] = data['ScreenResolution'].apply(lambda x : 1 if 'Touchscreen' in x else 0)\n",
        "data['Full_HD'] = data['ScreenResolution'].apply(lambda x : 1 if 'Full HD' in x else 0)\n",
        "\n",
        "list_X = []\n",
        "for n in data['ScreenResolution'].str.split('x',n=1,expand=True)[0].str.split().tolist():\n",
        "    list_X.append(int(n[-1]))\n",
        "    \n",
        "pd.Series(list_X)\n",
        "\n",
        "\n",
        "data['X_Res'] = list_X\n",
        "data['Y_Res'] = data['ScreenResolution'].str.split('x',n=1,expand=True)[1].astype(int)\n",
        "data['PPI'] = (((data['X_Res']**2) + (data['Y_Res']**2))**0.5/data['Inches']).astype('float')\n",
        "data.drop(columns=['X_Res','Y_Res','ScreenResolution','Inches'],inplace = True)"
      ]
    },
    {
      "cell_type": "markdown",
      "id": "11a984c3",
      "metadata": {
        "papermill": {
          "duration": 0.024134,
          "end_time": "2022-12-05T15:04:29.126859",
          "exception": false,
          "start_time": "2022-12-05T15:04:29.102725",
          "status": "completed"
        },
        "tags": [],
        "id": "11a984c3"
      },
      "source": [
        "**TYPENAME**"
      ]
    },
    {
      "cell_type": "code",
      "execution_count": null,
      "id": "41b1ceb3",
      "metadata": {
        "execution": {
          "iopub.execute_input": "2022-12-05T15:04:29.179188Z",
          "iopub.status.busy": "2022-12-05T15:04:29.178168Z",
          "iopub.status.idle": "2022-12-05T15:04:29.371436Z",
          "shell.execute_reply": "2022-12-05T15:04:29.370586Z"
        },
        "papermill": {
          "duration": 0.221518,
          "end_time": "2022-12-05T15:04:29.373281",
          "exception": false,
          "start_time": "2022-12-05T15:04:29.151763",
          "status": "completed"
        },
        "tags": [],
        "id": "41b1ceb3",
        "outputId": "755d5371-13c8-4de2-9b5c-bec70156b325",
        "colab": {
          "base_uri": "https://localhost:8080/",
          "height": 412
        }
      },
      "outputs": [
        {
          "output_type": "display_data",
          "data": {
            "text/plain": [
              "<Figure size 720x360 with 1 Axes>"
            ],
            "image/png": "[encoded data removed]"
          },
          "metadata": {
            "needs_background": "light"
          }
        }
      ],
      "source": [
        "plt.figure(figsize=(10,5))\n",
        "sns.boxplot(x='TypeName',y='Price',data=data)\n",
        "plt.xticks(rotation='vertical')\n",
        "plt.show()"
      ]
    },
    {
      "cell_type": "markdown",
      "id": "9d91d391",
      "metadata": {
        "papermill": {
          "duration": 0.024856,
          "end_time": "2022-12-05T15:04:29.423164",
          "exception": false,
          "start_time": "2022-12-05T15:04:29.398308",
          "status": "completed"
        },
        "tags": [],
        "id": "9d91d391"
      },
      "source": [
        "**CPU**"
      ]
    },
    {
      "cell_type": "code",
      "execution_count": null,
      "id": "53b8dc9f",
      "metadata": {
        "execution": {
          "iopub.execute_input": "2022-12-05T15:04:29.475557Z",
          "iopub.status.busy": "2022-12-05T15:04:29.474255Z",
          "iopub.status.idle": "2022-12-05T15:04:29.612552Z",
          "shell.execute_reply": "2022-12-05T15:04:29.611825Z"
        },
        "papermill": {
          "duration": 0.166222,
          "end_time": "2022-12-05T15:04:29.614807",
          "exception": false,
          "start_time": "2022-12-05T15:04:29.448585",
          "status": "completed"
        },
        "tags": [],
        "id": "53b8dc9f",
        "outputId": "340c4e8b-5a9a-400e-f386-f2136929540e",
        "colab": {
          "base_uri": "https://localhost:8080/",
          "height": 316
        }
      },
      "outputs": [
        {
          "output_type": "display_data",
          "data": {
            "text/plain": [
              "<Figure size 432x288 with 1 Axes>"
            ],
            "image/png": "[encoded data removed]"
          },
          "metadata": {
            "needs_background": "light"
          }
        }
      ],
      "source": [
        "data[\"Cpu_Name\"]=data['Cpu'].apply(lambda x: ' '.join(x.split()[0:3]))\n",
        "def cpu_brand(value):\n",
        "    if (value=='Intel Core i7') or (value=='Intel Core i5') or (value=='Intel Core i3'):\n",
        "        return value\n",
        "    else:\n",
        "        if(value.split()[0] == 'Intel'):\n",
        "            return 'Other Intel'\n",
        "        else:\n",
        "            return 'Other AMD'\n",
        "data['Cpu_brand'] = data['Cpu_Name'].apply(cpu_brand)\n",
        "data['Cpu_brand'].value_counts().plot(kind='bar')\n",
        "data.drop(columns=['Cpu_Name','Cpu'],inplace=True)"
      ]
    },
    {
      "cell_type": "markdown",
      "id": "e47f2b0c",
      "metadata": {
        "papermill": {
          "duration": 0.024807,
          "end_time": "2022-12-05T15:04:29.666321",
          "exception": false,
          "start_time": "2022-12-05T15:04:29.641514",
          "status": "completed"
        },
        "tags": [],
        "id": "e47f2b0c"
      },
      "source": [
        "**GPU**"
      ]
    },
    {
      "cell_type": "code",
      "execution_count": null,
      "id": "0fe9cf5d",
      "metadata": {
        "execution": {
          "iopub.execute_input": "2022-12-05T15:04:29.717990Z",
          "iopub.status.busy": "2022-12-05T15:04:29.717558Z",
          "iopub.status.idle": "2022-12-05T15:04:29.725610Z",
          "shell.execute_reply": "2022-12-05T15:04:29.724696Z"
        },
        "papermill": {
          "duration": 0.036268,
          "end_time": "2022-12-05T15:04:29.727395",
          "exception": false,
          "start_time": "2022-12-05T15:04:29.691127",
          "status": "completed"
        },
        "tags": [],
        "id": "0fe9cf5d"
      },
      "outputs": [],
      "source": [
        "data['Gpu brand'] = data['Gpu'].apply(lambda x:x.split()[0])\n",
        "data = data[data['Gpu brand'] != 'ARM']"
      ]
    },
    {
      "cell_type": "code",
      "execution_count": null,
      "id": "6b219e65",
      "metadata": {
        "execution": {
          "iopub.execute_input": "2022-12-05T15:04:29.780216Z",
          "iopub.status.busy": "2022-12-05T15:04:29.779813Z",
          "iopub.status.idle": "2022-12-05T15:04:29.786372Z",
          "shell.execute_reply": "2022-12-05T15:04:29.784936Z"
        },
        "papermill": {
          "duration": 0.035285,
          "end_time": "2022-12-05T15:04:29.788273",
          "exception": false,
          "start_time": "2022-12-05T15:04:29.752988",
          "status": "completed"
        },
        "tags": [],
        "id": "6b219e65"
      },
      "outputs": [],
      "source": [
        "data.drop(columns=['Gpu'],inplace=True)"
      ]
    },
    {
      "cell_type": "markdown",
      "id": "e718fe2b",
      "metadata": {
        "papermill": {
          "duration": 0.024098,
          "end_time": "2022-12-05T15:04:29.837104",
          "exception": false,
          "start_time": "2022-12-05T15:04:29.813006",
          "status": "completed"
        },
        "tags": [],
        "id": "e718fe2b"
      },
      "source": [
        "**OPERATING SYSTEM**"
      ]
    },
    {
      "cell_type": "code",
      "execution_count": null,
      "id": "378f2d84",
      "metadata": {
        "execution": {
          "iopub.execute_input": "2022-12-05T15:04:29.890483Z",
          "iopub.status.busy": "2022-12-05T15:04:29.889452Z",
          "iopub.status.idle": "2022-12-05T15:04:29.898196Z",
          "shell.execute_reply": "2022-12-05T15:04:29.897472Z"
        },
        "papermill": {
          "duration": 0.037941,
          "end_time": "2022-12-05T15:04:29.900216",
          "exception": false,
          "start_time": "2022-12-05T15:04:29.862275",
          "status": "completed"
        },
        "tags": [],
        "id": "378f2d84"
      },
      "outputs": [],
      "source": [
        "def cat_os(inp):\n",
        "    if (inp == 'Windows 10') or (inp == 'Windows 7') or (inp == 'Windows 10 S'):\n",
        "        return 'Windows'\n",
        "    elif (inp == 'macOS') or (inp == 'Mac OS X'):\n",
        "        return 'Mac'\n",
        "    else:\n",
        "        return 'Others'\n",
        "data['os'] = data['OpSys'].apply(cat_os)\n",
        "data.drop(columns=['OpSys'],inplace=True)"
      ]
    },
    {
      "cell_type": "markdown",
      "id": "518ae13c",
      "metadata": {
        "papermill": {
          "duration": 0.025199,
          "end_time": "2022-12-05T15:04:29.950794",
          "exception": false,
          "start_time": "2022-12-05T15:04:29.925595",
          "status": "completed"
        },
        "tags": [],
        "id": "518ae13c"
      },
      "source": [
        "**WEIGHT**"
      ]
    },
    {
      "cell_type": "code",
      "execution_count": null,
      "id": "e33c4781",
      "metadata": {
        "execution": {
          "iopub.execute_input": "2022-12-05T15:04:30.003904Z",
          "iopub.status.busy": "2022-12-05T15:04:30.003204Z",
          "iopub.status.idle": "2022-12-05T15:04:30.013466Z",
          "shell.execute_reply": "2022-12-05T15:04:30.012824Z"
        },
        "papermill": {
          "duration": 0.03882,
          "end_time": "2022-12-05T15:04:30.015309",
          "exception": false,
          "start_time": "2022-12-05T15:04:29.976489",
          "status": "completed"
        },
        "tags": [],
        "id": "e33c4781",
        "outputId": "7ac8ce79-d945-48b1-b4b8-ce5d7ae2edf2",
        "colab": {
          "base_uri": "https://localhost:8080/"
        }
      },
      "outputs": [
        {
          "output_type": "execute_result",
          "data": {
            "text/plain": [
              "2    628\n",
              "1    567\n",
              "3     54\n",
              "4     35\n",
              "0     18\n",
              "Name: Weight, dtype: int64"
            ]
          },
          "metadata": {},
          "execution_count": 115
        }
      ],
      "source": [
        "data['Weight']=data['Weight'].str.replace('kg','').astype(float).astype(int)\n",
        "data['Weight'].value_counts()"
      ]
    },
    {
      "cell_type": "code",
      "execution_count": null,
      "id": "fa3c9f9a",
      "metadata": {
        "execution": {
          "iopub.execute_input": "2022-12-05T15:04:30.068252Z",
          "iopub.status.busy": "2022-12-05T15:04:30.066933Z",
          "iopub.status.idle": "2022-12-05T15:04:30.077956Z",
          "shell.execute_reply": "2022-12-05T15:04:30.076413Z"
        },
        "papermill": {
          "duration": 0.040532,
          "end_time": "2022-12-05T15:04:30.080894",
          "exception": false,
          "start_time": "2022-12-05T15:04:30.040362",
          "status": "completed"
        },
        "tags": [],
        "id": "fa3c9f9a",
        "outputId": "6974d9d1-7cf2-4f5d-fb8c-12ddb28ed170",
        "colab": {
          "base_uri": "https://localhost:8080/"
        }
      },
      "outputs": [
        {
          "output_type": "execute_result",
          "data": {
            "text/plain": [
              "Ram            0.742905\n",
              "Weight         0.173350\n",
              "Price          1.000000\n",
              "HDD           -0.095925\n",
              "SSD            0.670660\n",
              "Flash         -0.040067\n",
              "Hybrid        -0.004784\n",
              "IPS            0.253320\n",
              "TouchScreen    0.192917\n",
              "Full_HD        0.198093\n",
              "PPI            0.475368\n",
              "Name: Price, dtype: float64"
            ]
          },
          "metadata": {},
          "execution_count": 116
        }
      ],
      "source": [
        "data.corr()['Price']"
      ]
    },
    {
      "cell_type": "code",
      "execution_count": null,
      "id": "c42e35bc",
      "metadata": {
        "execution": {
          "iopub.execute_input": "2022-12-05T15:04:30.134955Z",
          "iopub.status.busy": "2022-12-05T15:04:30.134601Z",
          "iopub.status.idle": "2022-12-05T15:04:30.405748Z",
          "shell.execute_reply": "2022-12-05T15:04:30.405101Z"
        },
        "papermill": {
          "duration": 0.301193,
          "end_time": "2022-12-05T15:04:30.407687",
          "exception": false,
          "start_time": "2022-12-05T15:04:30.106494",
          "status": "completed"
        },
        "tags": [],
        "id": "c42e35bc",
        "outputId": "040d46c9-510a-4a75-8a74-519da54aee06",
        "colab": {
          "base_uri": "https://localhost:8080/",
          "height": 340
        }
      },
      "outputs": [
        {
          "output_type": "execute_result",
          "data": {
            "text/plain": [
              "<matplotlib.axes._subplots.AxesSubplot at 0x7f3280c9cdf0>"
            ]
          },
          "metadata": {},
          "execution_count": 117
        },
        {
          "output_type": "display_data",
          "data": {
            "text/plain": [
              "<Figure size 432x288 with 2 Axes>"
            ],
            "image/png": "[encoded data removed]"
          },
          "metadata": {
            "needs_background": "light"
          }
        }
      ],
      "source": [
        "sns.heatmap(data.corr())"
      ]
    },
    {
      "cell_type": "code",
      "execution_count": null,
      "id": "aeb4f143",
      "metadata": {
        "execution": {
          "iopub.execute_input": "2022-12-05T15:04:30.460874Z",
          "iopub.status.busy": "2022-12-05T15:04:30.459733Z",
          "iopub.status.idle": "2022-12-05T15:04:30.466207Z",
          "shell.execute_reply": "2022-12-05T15:04:30.465571Z"
        },
        "papermill": {
          "duration": 0.034686,
          "end_time": "2022-12-05T15:04:30.468049",
          "exception": false,
          "start_time": "2022-12-05T15:04:30.433363",
          "status": "completed"
        },
        "tags": [],
        "id": "aeb4f143"
      },
      "outputs": [],
      "source": [
        "X = data.drop(columns=['Price'])\n",
        "y = np.log(data['Price'])"
      ]
    },
    {
      "cell_type": "markdown",
      "id": "2654ada2",
      "metadata": {
        "papermill": {
          "duration": 0.024346,
          "end_time": "2022-12-05T15:04:30.517013",
          "exception": false,
          "start_time": "2022-12-05T15:04:30.492667",
          "status": "completed"
        },
        "tags": [],
        "id": "2654ada2"
      },
      "source": [
        "# BUILDING MODEL"
      ]
    },
    {
      "cell_type": "code",
      "execution_count": null,
      "id": "2bee6af1",
      "metadata": {
        "execution": {
          "iopub.execute_input": "2022-12-05T15:04:30.569195Z",
          "iopub.status.busy": "2022-12-05T15:04:30.568686Z",
          "iopub.status.idle": "2022-12-05T15:04:31.209990Z",
          "shell.execute_reply": "2022-12-05T15:04:31.208106Z"
        },
        "papermill": {
          "duration": 0.670496,
          "end_time": "2022-12-05T15:04:31.212583",
          "exception": false,
          "start_time": "2022-12-05T15:04:30.542087",
          "status": "completed"
        },
        "tags": [],
        "id": "2bee6af1"
      },
      "outputs": [],
      "source": [
        "from sklearn.model_selection import train_test_split\n",
        "X_train,X_test,y_train,y_test = train_test_split(X,y,test_size=0.15,random_state=2)\n",
        "from sklearn.compose import ColumnTransformer\n",
        "from sklearn.pipeline import Pipeline\n",
        "from sklearn.preprocessing import OneHotEncoder\n",
        "from sklearn.metrics import r2_score,mean_absolute_error\n",
        "from sklearn.linear_model import LinearRegression,Ridge,Lasso\n",
        "from sklearn.neighbors import KNeighborsRegressor\n",
        "from sklearn.tree import DecisionTreeRegressor\n",
        "from sklearn.ensemble import RandomForestRegressor,GradientBoostingRegressor,AdaBoostRegressor,ExtraTreesRegressor\n",
        "from sklearn.svm import SVR\n",
        "from xgboost import XGBRegressor\n"
      ]
    },
    {
      "cell_type": "markdown",
      "id": "63c7b27b",
      "metadata": {
        "papermill": {
          "duration": 0.02574,
          "end_time": "2022-12-05T15:04:31.264118",
          "exception": false,
          "start_time": "2022-12-05T15:04:31.238378",
          "status": "completed"
        },
        "tags": [],
        "id": "63c7b27b"
      },
      "source": [
        "**LINEAR REGRESSION**"
      ]
    },
    {
      "cell_type": "code",
      "execution_count": null,
      "id": "1f1721e9",
      "metadata": {
        "execution": {
          "iopub.execute_input": "2022-12-05T15:04:31.316443Z",
          "iopub.status.busy": "2022-12-05T15:04:31.316014Z",
          "iopub.status.idle": "2022-12-05T15:04:31.333099Z",
          "shell.execute_reply": "2022-12-05T15:04:31.332194Z"
        },
        "papermill": {
          "duration": 0.04555,
          "end_time": "2022-12-05T15:04:31.334891",
          "exception": false,
          "start_time": "2022-12-05T15:04:31.289341",
          "status": "completed"
        },
        "tags": [],
        "id": "1f1721e9",
        "outputId": "7c0cfe75-df58-4e3b-8369-d387ae1e4381",
        "colab": {
          "base_uri": "https://localhost:8080/",
          "height": 206
        }
      },
      "outputs": [
        {
          "output_type": "execute_result",
          "data": {
            "text/plain": [
              "  Company   TypeName  Ram  Weight        Price  HDD  SSD  Flash  Hybrid  IPS  \\\n",
              "0   Apple  Ultrabook    8       1   71378.6832    0  128      0       0    1   \n",
              "1   Apple  Ultrabook    8       1   47895.5232    0    0    128       0    0   \n",
              "2      HP   Notebook    8       1   30636.0000    0  256      0       0    0   \n",
              "3   Apple  Ultrabook   16       1  135195.3360    0  512      0       0    1   \n",
              "4   Apple  Ultrabook    8       1   96095.8080    0  256      0       0    1   \n",
              "\n",
              "   TouchScreen  Full_HD         PPI      Cpu_brand Gpu brand      os  \n",
              "0            0        0  226.983005  Intel Core i5     Intel     Mac  \n",
              "1            0        0  127.677940  Intel Core i5     Intel     Mac  \n",
              "2            0        1  141.211998  Intel Core i5     Intel  Others  \n",
              "3            0        0  220.534624  Intel Core i7       AMD     Mac  \n",
              "4            0        0  226.983005  Intel Core i5     Intel     Mac  "
            ],
            "text/html": [
              "\n",
              "  <div id=\"df-51431c13-d5d6-405a-ad51-149d691cad38\">\n",
              "    <div class=\"colab-df-container\">\n",
              "      <div>\n",
              "<style scoped>\n",
              "    .dataframe tbody tr th:only-of-type {\n",
              "        vertical-align: middle;\n",
              "    }\n",
              "\n",
              "    .dataframe tbody tr th {\n",
              "        vertical-align: top;\n",
              "    }\n",
              "\n",
              "    .dataframe thead th {\n",
              "        text-align: right;\n",
              "    }\n",
              "</style>\n",
              "<table border=\"1\" class=\"dataframe\">\n",
              "  <thead>\n",
              "    <tr style=\"text-align: right;\">\n",
              "      <th></th>\n",
              "      <th>Company</th>\n",
              "      <th>TypeName</th>\n",
              "      <th>Ram</th>\n",
              "      <th>Weight</th>\n",
              "      <th>Price</th>\n",
              "      <th>HDD</th>\n",
              "      <th>SSD</th>\n",
              "      <th>Flash</th>\n",
              "      <th>Hybrid</th>\n",
              "      <th>IPS</th>\n",
              "      <th>TouchScreen</th>\n",
              "      <th>Full_HD</th>\n",
              "      <th>PPI</th>\n",
              "      <th>Cpu_brand</th>\n",
              "      <th>Gpu brand</th>\n",
              "      <th>os</th>\n",
              "    </tr>\n",
              "  </thead>\n",
              "  <tbody>\n",
              "    <tr>\n",
              "      <th>0</th>\n",
              "      <td>Apple</td>\n",
              "      <td>Ultrabook</td>\n",
              "      <td>8</td>\n",
              "      <td>1</td>\n",
              "      <td>71378.6832</td>\n",
              "      <td>0</td>\n",
              "      <td>128</td>\n",
              "      <td>0</td>\n",
              "      <td>0</td>\n",
              "      <td>1</td>\n",
              "      <td>0</td>\n",
              "      <td>0</td>\n",
              "      <td>226.983005</td>\n",
              "      <td>Intel Core i5</td>\n",
              "      <td>Intel</td>\n",
              "      <td>Mac</td>\n",
              "    </tr>\n",
              "    <tr>\n",
              "      <th>1</th>\n",
              "      <td>Apple</td>\n",
              "      <td>Ultrabook</td>\n",
              "      <td>8</td>\n",
              "      <td>1</td>\n",
              "      <td>47895.5232</td>\n",
              "      <td>0</td>\n",
              "      <td>0</td>\n",
              "      <td>128</td>\n",
              "      <td>0</td>\n",
              "      <td>0</td>\n",
              "      <td>0</td>\n",
              "      <td>0</td>\n",
              "      <td>127.677940</td>\n",
              "      <td>Intel Core i5</td>\n",
              "      <td>Intel</td>\n",
              "      <td>Mac</td>\n",
              "    </tr>\n",
              "    <tr>\n",
              "      <th>2</th>\n",
              "      <td>HP</td>\n",
              "      <td>Notebook</td>\n",
              "      <td>8</td>\n",
              "      <td>1</td>\n",
              "      <td>30636.0000</td>\n",
              "      <td>0</td>\n",
              "      <td>256</td>\n",
              "      <td>0</td>\n",
              "      <td>0</td>\n",
              "      <td>0</td>\n",
              "      <td>0</td>\n",
              "      <td>1</td>\n",
              "      <td>141.211998</td>\n",
              "      <td>Intel Core i5</td>\n",
              "      <td>Intel</td>\n",
              "      <td>Others</td>\n",
              "    </tr>\n",
              "    <tr>\n",
              "      <th>3</th>\n",
              "      <td>Apple</td>\n",
              "      <td>Ultrabook</td>\n",
              "      <td>16</td>\n",
              "      <td>1</td>\n",
              "      <td>135195.3360</td>\n",
              "      <td>0</td>\n",
              "      <td>512</td>\n",
              "      <td>0</td>\n",
              "      <td>0</td>\n",
              "      <td>1</td>\n",
              "      <td>0</td>\n",
              "      <td>0</td>\n",
              "      <td>220.534624</td>\n",
              "      <td>Intel Core i7</td>\n",
              "      <td>AMD</td>\n",
              "      <td>Mac</td>\n",
              "    </tr>\n",
              "    <tr>\n",
              "      <th>4</th>\n",
              "      <td>Apple</td>\n",
              "      <td>Ultrabook</td>\n",
              "      <td>8</td>\n",
              "      <td>1</td>\n",
              "      <td>96095.8080</td>\n",
              "      <td>0</td>\n",
              "      <td>256</td>\n",
              "      <td>0</td>\n",
              "      <td>0</td>\n",
              "      <td>1</td>\n",
              "      <td>0</td>\n",
              "      <td>0</td>\n",
              "      <td>226.983005</td>\n",
              "      <td>Intel Core i5</td>\n",
              "      <td>Intel</td>\n",
              "      <td>Mac</td>\n",
              "    </tr>\n",
              "  </tbody>\n",
              "</table>\n",
              "</div>\n",
              "      <button class=\"colab-df-convert\" onclick=\"convertToInteractive('df-51431c13-d5d6-405a-ad51-149d691cad38')\"\n",
              "              title=\"Convert this dataframe to an interactive table.\"\n",
              "              style=\"display:none;\">\n",
              "        \n",
              "  <svg xmlns=\"http://www.w3.org/2000/svg\" height=\"24px\"viewBox=\"0 0 24 24\"\n",
              "       width=\"24px\">\n",
              "    <path d=\"M0 0h24v24H0V0z\" fill=\"none\"/>\n",
              "    <path d=\"M18.56 5.44l.94 2.06.94-2.06 2.06-.94-2.06-.94-.94-2.06-.94 2.06-2.06.94zm-11 1L8.5 8.5l.94-2.06 2.06-.94-2.06-.94L8.5 2.5l-.94 2.06-2.06.94zm10 10l.94 2.06.94-2.06 2.06-.94-2.06-.94-.94-2.06-.94 2.06-2.06.94z\"/><path d=\"M17.41 7.96l-1.37-1.37c-.4-.4-.92-.59-1.43-.59-.52 0-1.04.2-1.43.59L10.3 9.45l-7.72 7.72c-.78.78-.78 2.05 0 2.83L4 21.41c.39.39.9.59 1.41.59.51 0 1.02-.2 1.41-.59l7.78-7.78 2.81-2.81c.8-.78.8-2.07 0-2.86zM5.41 20L4 18.59l7.72-7.72 1.47 1.35L5.41 20z\"/>\n",
              "  </svg>\n",
              "      </button>\n",
              "      \n",
              "  <style>\n",
              "    .colab-df-container {\n",
              "      display:flex;\n",
              "      flex-wrap:wrap;\n",
              "      gap: 12px;\n",
              "    }\n",
              "\n",
              "    .colab-df-convert {\n",
              "      background-color: #E8F0FE;\n",
              "      border: none;\n",
              "      border-radius: 50%;\n",
              "      cursor: pointer;\n",
              "      display: none;\n",
              "      fill: #1967D2;\n",
              "      height: 32px;\n",
              "      padding: 0 0 0 0;\n",
              "      width: 32px;\n",
              "    }\n",
              "\n",
              "    .colab-df-convert:hover {\n",
              "      background-color: #E2EBFA;\n",
              "      box-shadow: 0px 1px 2px rgba(60, 64, 67, 0.3), 0px 1px 3px 1px rgba(60, 64, 67, 0.15);\n",
              "      fill: #174EA6;\n",
              "    }\n",
              "\n",
              "    [theme=dark] .colab-df-convert {\n",
              "      background-color: #3B4455;\n",
              "      fill: #D2E3FC;\n",
              "    }\n",
              "\n",
              "    [theme=dark] .colab-df-convert:hover {\n",
              "      background-color: #434B5C;\n",
              "      box-shadow: 0px 1px 3px 1px rgba(0, 0, 0, 0.15);\n",
              "      filter: drop-shadow(0px 1px 2px rgba(0, 0, 0, 0.3));\n",
              "      fill: #FFFFFF;\n",
              "    }\n",
              "  </style>\n",
              "\n",
              "      <script>\n",
              "        const buttonEl =\n",
              "          document.querySelector('#df-51431c13-d5d6-405a-ad51-149d691cad38 button.colab-df-convert');\n",
              "        buttonEl.style.display =\n",
              "          google.colab.kernel.accessAllowed ? 'block' : 'none';\n",
              "\n",
              "        async function convertToInteractive(key) {\n",
              "          const element = document.querySelector('#df-51431c13-d5d6-405a-ad51-149d691cad38');\n",
              "          const dataTable =\n",
              "            await google.colab.kernel.invokeFunction('convertToInteractive',\n",
              "                                                     [key], {});\n",
              "          if (!dataTable) return;\n",
              "\n",
              "          const docLinkHtml = 'Like what you see? Visit the ' +\n",
              "            '<a target=\"_blank\" href=https://colab.research.google.com/notebooks/data_table.ipynb>data table notebook</a>'\n",
              "            + ' to learn more about interactive tables.';\n",
              "          element.innerHTML = '';\n",
              "          dataTable['output_type'] = 'display_data';\n",
              "          await google.colab.output.renderOutput(dataTable, element);\n",
              "          const docLink = document.createElement('div');\n",
              "          docLink.innerHTML = docLinkHtml;\n",
              "          element.appendChild(docLink);\n",
              "        }\n",
              "      </script>\n",
              "    </div>\n",
              "  </div>\n",
              "  "
            ]
          },
          "metadata": {},
          "execution_count": 120
        }
      ],
      "source": [
        "data.head()"
      ]
    },
    {
      "cell_type": "code",
      "execution_count": null,
      "id": "89eeb84c",
      "metadata": {
        "execution": {
          "iopub.execute_input": "2022-12-05T15:04:31.386801Z",
          "iopub.status.busy": "2022-12-05T15:04:31.386369Z",
          "iopub.status.idle": "2022-12-05T15:04:31.428197Z",
          "shell.execute_reply": "2022-12-05T15:04:31.427281Z"
        },
        "papermill": {
          "duration": 0.070859,
          "end_time": "2022-12-05T15:04:31.431142",
          "exception": false,
          "start_time": "2022-12-05T15:04:31.360283",
          "status": "completed"
        },
        "tags": [],
        "id": "89eeb84c",
        "outputId": "fbb0ff1a-15fc-4dfd-8604-8373bab08ec3",
        "colab": {
          "base_uri": "https://localhost:8080/"
        }
      },
      "outputs": [
        {
          "output_type": "stream",
          "name": "stdout",
          "text": [
            "R2 score 0.8036122797109184\n",
            "MAE 0.21522082596382436\n"
          ]
        }
      ],
      "source": [
        "step1 = ColumnTransformer(transformers=[\n",
        "    ('col_tnf',OneHotEncoder(sparse=False,drop='first'),[0,1,-1,-2,-3])\n",
        "],remainder='passthrough')\n",
        "\n",
        "step2 = LinearRegression()\n",
        "\n",
        "pipe = Pipeline([\n",
        "    ('step1',step1),\n",
        "    ('step2',step2)\n",
        "])\n",
        "\n",
        "pipe.fit(X_train,y_train)\n",
        "\n",
        "y_pred = pipe.predict(X_test)\n",
        "\n",
        "print('R2 score',r2_score(y_test,y_pred))\n",
        "print('MAE',mean_absolute_error(y_test,y_pred))\n"
      ]
    },
    {
      "cell_type": "markdown",
      "id": "b78b0636",
      "metadata": {
        "papermill": {
          "duration": 0.035397,
          "end_time": "2022-12-05T15:04:31.500999",
          "exception": false,
          "start_time": "2022-12-05T15:04:31.465602",
          "status": "completed"
        },
        "tags": [],
        "id": "b78b0636"
      },
      "source": [
        "**RIDGE REGRESSION**"
      ]
    },
    {
      "cell_type": "code",
      "execution_count": null,
      "id": "bfcf9478",
      "metadata": {
        "execution": {
          "iopub.execute_input": "2022-12-05T15:04:31.562847Z",
          "iopub.status.busy": "2022-12-05T15:04:31.562497Z",
          "iopub.status.idle": "2022-12-05T15:04:31.592733Z",
          "shell.execute_reply": "2022-12-05T15:04:31.591846Z"
        },
        "papermill": {
          "duration": 0.059821,
          "end_time": "2022-12-05T15:04:31.594885",
          "exception": false,
          "start_time": "2022-12-05T15:04:31.535064",
          "status": "completed"
        },
        "tags": [],
        "id": "bfcf9478",
        "outputId": "24296fe6-e048-4adb-d049-6f92172632a7",
        "colab": {
          "base_uri": "https://localhost:8080/"
        }
      },
      "outputs": [
        {
          "output_type": "stream",
          "name": "stdout",
          "text": [
            "R2 score 0.815141458878013\n",
            "MAE 0.20927583047499795\n"
          ]
        }
      ],
      "source": [
        "step1 = ColumnTransformer(transformers=[\n",
        "    ('col_tnf',OneHotEncoder(sparse=False,drop='first'),[0,1,-1,-2,-3])\n",
        "],remainder='passthrough')\n",
        "\n",
        "step2 = Ridge(alpha=10)\n",
        "\n",
        "pipe = Pipeline([\n",
        "    ('step1',step1),\n",
        "    ('step2',step2)\n",
        "])\n",
        "\n",
        "pipe.fit(X_train,y_train)\n",
        "\n",
        "y_pred = pipe.predict(X_test)\n",
        "\n",
        "print('R2 score',r2_score(y_test,y_pred))\n",
        "print('MAE',mean_absolute_error(y_test,y_pred))"
      ]
    },
    {
      "cell_type": "markdown",
      "id": "75bf676c",
      "metadata": {
        "papermill": {
          "duration": 0.033668,
          "end_time": "2022-12-05T15:04:31.663028",
          "exception": false,
          "start_time": "2022-12-05T15:04:31.629360",
          "status": "completed"
        },
        "tags": [],
        "id": "75bf676c"
      },
      "source": [
        "**LASSO REGRESSION**"
      ]
    },
    {
      "cell_type": "code",
      "execution_count": null,
      "id": "8abcb332",
      "metadata": {
        "execution": {
          "iopub.execute_input": "2022-12-05T15:04:31.724621Z",
          "iopub.status.busy": "2022-12-05T15:04:31.724248Z",
          "iopub.status.idle": "2022-12-05T15:04:31.750366Z",
          "shell.execute_reply": "2022-12-05T15:04:31.749399Z"
        },
        "papermill": {
          "duration": 0.056254,
          "end_time": "2022-12-05T15:04:31.753151",
          "exception": false,
          "start_time": "2022-12-05T15:04:31.696897",
          "status": "completed"
        },
        "tags": [],
        "id": "8abcb332",
        "outputId": "73277dd9-dc1c-42d1-b88f-62b4a605a2d5",
        "colab": {
          "base_uri": "https://localhost:8080/"
        }
      },
      "outputs": [
        {
          "output_type": "stream",
          "name": "stdout",
          "text": [
            "R2 score 0.8078331421328123\n",
            "MAE 0.21140329297439425\n"
          ]
        }
      ],
      "source": [
        "step1 = ColumnTransformer(transformers=[\n",
        "    ('col_tnf',OneHotEncoder(sparse=False,drop='first'),[0,1,-1,-2,-3])\n",
        "],remainder='passthrough')\n",
        "\n",
        "step2 = Lasso(alpha=0.001)\n",
        "\n",
        "pipe = Pipeline([\n",
        "    ('step1',step1),\n",
        "    ('step2',step2)\n",
        "])\n",
        "\n",
        "pipe.fit(X_train,y_train)\n",
        "\n",
        "y_pred = pipe.predict(X_test)\n",
        "\n",
        "print('R2 score',r2_score(y_test,y_pred))\n",
        "print('MAE',mean_absolute_error(y_test,y_pred))"
      ]
    },
    {
      "cell_type": "markdown",
      "id": "01cd451d",
      "metadata": {
        "papermill": {
          "duration": 0.033827,
          "end_time": "2022-12-05T15:04:31.821991",
          "exception": false,
          "start_time": "2022-12-05T15:04:31.788164",
          "status": "completed"
        },
        "tags": [],
        "id": "01cd451d"
      },
      "source": [
        "**KNN**"
      ]
    },
    {
      "cell_type": "code",
      "execution_count": null,
      "id": "5cde24b3",
      "metadata": {
        "execution": {
          "iopub.execute_input": "2022-12-05T15:04:31.884011Z",
          "iopub.status.busy": "2022-12-05T15:04:31.883678Z",
          "iopub.status.idle": "2022-12-05T15:04:31.908344Z",
          "shell.execute_reply": "2022-12-05T15:04:31.907472Z"
        },
        "papermill": {
          "duration": 0.054992,
          "end_time": "2022-12-05T15:04:31.911172",
          "exception": false,
          "start_time": "2022-12-05T15:04:31.856180",
          "status": "completed"
        },
        "tags": [],
        "id": "5cde24b3",
        "outputId": "ea061798-2dc3-4dfb-da4a-4ee1922b277f",
        "colab": {
          "base_uri": "https://localhost:8080/"
        }
      },
      "outputs": [
        {
          "output_type": "stream",
          "name": "stdout",
          "text": [
            "R2 score 0.8124828384931102\n",
            "MAE 0.19288000303994382\n"
          ]
        }
      ],
      "source": [
        "step1 = ColumnTransformer(transformers=[\n",
        "    ('col_tnf',OneHotEncoder(sparse=False,drop='first'),[0,1,-1,-2,-3])\n",
        "],remainder='passthrough')\n",
        "\n",
        "step2 = KNeighborsRegressor(n_neighbors=3)\n",
        "\n",
        "pipe = Pipeline([\n",
        "    ('step1',step1),\n",
        "    ('step2',step2)\n",
        "])\n",
        "\n",
        "pipe.fit(X_train,y_train)\n",
        "\n",
        "y_pred = pipe.predict(X_test)\n",
        "\n",
        "print('R2 score',r2_score(y_test,y_pred))\n",
        "print('MAE',mean_absolute_error(y_test,y_pred))"
      ]
    },
    {
      "cell_type": "markdown",
      "id": "cb006b1c",
      "metadata": {
        "papermill": {
          "duration": 0.033918,
          "end_time": "2022-12-05T15:04:31.980387",
          "exception": false,
          "start_time": "2022-12-05T15:04:31.946469",
          "status": "completed"
        },
        "tags": [],
        "id": "cb006b1c"
      },
      "source": [
        "**DESICION TREE**"
      ]
    },
    {
      "cell_type": "code",
      "execution_count": null,
      "id": "33e5175f",
      "metadata": {
        "execution": {
          "iopub.execute_input": "2022-12-05T15:04:32.043965Z",
          "iopub.status.busy": "2022-12-05T15:04:32.043596Z",
          "iopub.status.idle": "2022-12-05T15:04:32.065202Z",
          "shell.execute_reply": "2022-12-05T15:04:32.063868Z"
        },
        "papermill": {
          "duration": 0.051195,
          "end_time": "2022-12-05T15:04:32.067352",
          "exception": false,
          "start_time": "2022-12-05T15:04:32.016157",
          "status": "completed"
        },
        "tags": [],
        "id": "33e5175f",
        "outputId": "da6c282f-b660-4a27-be34-c47d550450d7",
        "colab": {
          "base_uri": "https://localhost:8080/"
        }
      },
      "outputs": [
        {
          "output_type": "stream",
          "name": "stdout",
          "text": [
            "R2 score 0.8258756982643103\n",
            "MAE 0.19681963342614042\n"
          ]
        }
      ],
      "source": [
        "step1 = ColumnTransformer(transformers=[\n",
        "    ('col_tnf',OneHotEncoder(sparse=False,drop='first'),[0,1,-1,-2,-3])\n",
        "],remainder='passthrough')\n",
        "\n",
        "step2 = DecisionTreeRegressor(max_depth=8)\n",
        "\n",
        "pipe = Pipeline([\n",
        "    ('step1',step1),\n",
        "    ('step2',step2)\n",
        "])\n",
        "\n",
        "pipe.fit(X_train,y_train)\n",
        "\n",
        "y_pred = pipe.predict(X_test)\n",
        "\n",
        "print('R2 score',r2_score(y_test,y_pred))\n",
        "print('MAE',mean_absolute_error(y_test,y_pred))"
      ]
    },
    {
      "cell_type": "markdown",
      "id": "5ba51b75",
      "metadata": {
        "papermill": {
          "duration": 0.026117,
          "end_time": "2022-12-05T15:04:32.121825",
          "exception": false,
          "start_time": "2022-12-05T15:04:32.095708",
          "status": "completed"
        },
        "tags": [],
        "id": "5ba51b75"
      },
      "source": [
        "**SVM**"
      ]
    },
    {
      "cell_type": "code",
      "execution_count": null,
      "id": "7e510171",
      "metadata": {
        "execution": {
          "iopub.execute_input": "2022-12-05T15:04:32.174541Z",
          "iopub.status.busy": "2022-12-05T15:04:32.173875Z",
          "iopub.status.idle": "2022-12-05T15:04:32.709485Z",
          "shell.execute_reply": "2022-12-05T15:04:32.707940Z"
        },
        "papermill": {
          "duration": 0.565677,
          "end_time": "2022-12-05T15:04:32.713043",
          "exception": false,
          "start_time": "2022-12-05T15:04:32.147366",
          "status": "completed"
        },
        "tags": [],
        "id": "7e510171",
        "outputId": "8887c242-d89d-4d26-ad07-1b2c7bd4f393",
        "colab": {
          "base_uri": "https://localhost:8080/"
        }
      },
      "outputs": [
        {
          "output_type": "stream",
          "name": "stdout",
          "text": [
            "R2 score 0.8043490771291755\n",
            "MAE 0.20230947028044552\n"
          ]
        }
      ],
      "source": [
        "step1 = ColumnTransformer(transformers=[\n",
        "    ('col_tnf',OneHotEncoder(sparse=False,drop='first'),[0,1,-1,-2,-3])\n",
        "],remainder='passthrough')\n",
        "\n",
        "step2 = SVR(kernel='rbf',C=10000,epsilon=0.1)\n",
        "\n",
        "pipe = Pipeline([\n",
        "    ('step1',step1),\n",
        "    ('step2',step2)\n",
        "])\n",
        "\n",
        "pipe.fit(X_train,y_train)\n",
        "\n",
        "y_pred = pipe.predict(X_test)\n",
        "\n",
        "print('R2 score',r2_score(y_test,y_pred))\n",
        "print('MAE',mean_absolute_error(y_test,y_pred))"
      ]
    },
    {
      "cell_type": "markdown",
      "id": "7b94d9fd",
      "metadata": {
        "papermill": {
          "duration": 0.025451,
          "end_time": "2022-12-05T15:04:32.765022",
          "exception": false,
          "start_time": "2022-12-05T15:04:32.739571",
          "status": "completed"
        },
        "tags": [],
        "id": "7b94d9fd"
      },
      "source": [
        "**RANDOM FOREST**"
      ]
    },
    {
      "cell_type": "code",
      "execution_count": null,
      "id": "97856300",
      "metadata": {
        "execution": {
          "iopub.execute_input": "2022-12-05T15:04:32.818065Z",
          "iopub.status.busy": "2022-12-05T15:04:32.817502Z",
          "iopub.status.idle": "2022-12-05T15:04:33.036748Z",
          "shell.execute_reply": "2022-12-05T15:04:33.035711Z"
        },
        "papermill": {
          "duration": 0.2481,
          "end_time": "2022-12-05T15:04:33.038692",
          "exception": false,
          "start_time": "2022-12-05T15:04:32.790592",
          "status": "completed"
        },
        "tags": [],
        "id": "97856300",
        "outputId": "d62a32fc-81d5-4c94-fcda-8c4ecf2149bb",
        "colab": {
          "base_uri": "https://localhost:8080/"
        }
      },
      "outputs": [
        {
          "output_type": "stream",
          "name": "stdout",
          "text": [
            "R2 score 0.8778344165436136\n",
            "MAE 0.16668453118932158\n"
          ]
        }
      ],
      "source": [
        "step1 = ColumnTransformer(transformers=[\n",
        "    ('col_tnf',OneHotEncoder(sparse=False,drop='first'),[0,1,-1,-2,-3])\n",
        "],remainder='passthrough')\n",
        "\n",
        "step2 = RandomForestRegressor(n_estimators=100,\n",
        "                              random_state=3,\n",
        "                              max_samples=0.5,\n",
        "                              max_features=0.75,\n",
        "                              max_depth=15)\n",
        "\n",
        "pipe = Pipeline([\n",
        "    ('step1',step1),\n",
        "    ('step2',step2)\n",
        "])\n",
        "\n",
        "pipe.fit(X_train,y_train)\n",
        "\n",
        "y_pred = pipe.predict(X_test)\n",
        "\n",
        "print('R2 score',r2_score(y_test,y_pred))\n",
        "print('MAE',mean_absolute_error(y_test,y_pred))"
      ]
    },
    {
      "cell_type": "markdown",
      "id": "2f144c0c",
      "metadata": {
        "papermill": {
          "duration": 0.025459,
          "end_time": "2022-12-05T15:04:33.090223",
          "exception": false,
          "start_time": "2022-12-05T15:04:33.064764",
          "status": "completed"
        },
        "tags": [],
        "id": "2f144c0c"
      },
      "source": [
        "**EXTRA TREES**"
      ]
    },
    {
      "cell_type": "code",
      "execution_count": null,
      "id": "f34293e0",
      "metadata": {
        "execution": {
          "iopub.execute_input": "2022-12-05T15:04:33.144606Z",
          "iopub.status.busy": "2022-12-05T15:04:33.143524Z",
          "iopub.status.idle": "2022-12-05T15:04:33.354154Z",
          "shell.execute_reply": "2022-12-05T15:04:33.352284Z"
        },
        "papermill": {
          "duration": 0.241263,
          "end_time": "2022-12-05T15:04:33.357377",
          "exception": false,
          "start_time": "2022-12-05T15:04:33.116114",
          "status": "completed"
        },
        "tags": [],
        "id": "f34293e0",
        "outputId": "a32743a3-beb3-4a38-d313-55958e7366bc",
        "colab": {
          "base_uri": "https://localhost:8080/"
        }
      },
      "outputs": [
        {
          "output_type": "stream",
          "name": "stdout",
          "text": [
            "R2 score 0.8740006366077574\n",
            "MAE 0.16850478542831845\n"
          ]
        }
      ],
      "source": [
        "step1 = ColumnTransformer(transformers=[\n",
        "    ('col_tnf',OneHotEncoder(sparse=False,drop='first'),[0,1,-1,-2,-3])\n",
        "],remainder='passthrough')\n",
        "\n",
        "step2 = ExtraTreesRegressor(n_estimators=100,\n",
        "                              random_state=3,\n",
        "                              bootstrap=True,\n",
        "                              max_samples=0.5,\n",
        "                              max_features=0.75,\n",
        "                              max_depth=15)\n",
        "\n",
        "pipe = Pipeline([\n",
        "    ('step1',step1),\n",
        "    ('step2',step2)\n",
        "])\n",
        "\n",
        "pipe.fit(X_train,y_train)\n",
        "\n",
        "y_pred = pipe.predict(X_test)\n",
        "\n",
        "print('R2 score',r2_score(y_test,y_pred))\n",
        "print('MAE',mean_absolute_error(y_test,y_pred))"
      ]
    },
    {
      "cell_type": "markdown",
      "id": "930627c4",
      "metadata": {
        "papermill": {
          "duration": 0.025811,
          "end_time": "2022-12-05T15:04:33.410197",
          "exception": false,
          "start_time": "2022-12-05T15:04:33.384386",
          "status": "completed"
        },
        "tags": [],
        "id": "930627c4"
      },
      "source": [
        "**ADABOOST**"
      ]
    },
    {
      "cell_type": "code",
      "execution_count": null,
      "id": "c6f2fdef",
      "metadata": {
        "execution": {
          "iopub.execute_input": "2022-12-05T15:04:33.464490Z",
          "iopub.status.busy": "2022-12-05T15:04:33.464154Z",
          "iopub.status.idle": "2022-12-05T15:04:33.513494Z",
          "shell.execute_reply": "2022-12-05T15:04:33.512604Z"
        },
        "papermill": {
          "duration": 0.080982,
          "end_time": "2022-12-05T15:04:33.517094",
          "exception": false,
          "start_time": "2022-12-05T15:04:33.436112",
          "status": "completed"
        },
        "tags": [],
        "id": "c6f2fdef",
        "outputId": "5db958a8-5731-45f1-9245-8c658b71f05c",
        "colab": {
          "base_uri": "https://localhost:8080/"
        }
      },
      "outputs": [
        {
          "output_type": "stream",
          "name": "stdout",
          "text": [
            "R2 score 0.7702124842833726\n",
            "MAE 0.241826626166716\n"
          ]
        }
      ],
      "source": [
        "step1 = ColumnTransformer(transformers=[\n",
        "    ('col_tnf',OneHotEncoder(sparse=False,drop='first'),[0,1,-1,-2,-3])\n",
        "],remainder='passthrough')\n",
        "\n",
        "step2 = AdaBoostRegressor(n_estimators=15,learning_rate=1.0)\n",
        "\n",
        "pipe = Pipeline([\n",
        "    ('step1',step1),\n",
        "    ('step2',step2)\n",
        "])\n",
        "\n",
        "pipe.fit(X_train,y_train)\n",
        "\n",
        "y_pred = pipe.predict(X_test)\n",
        "\n",
        "print('R2 score',r2_score(y_test,y_pred))\n",
        "print('MAE',mean_absolute_error(y_test,y_pred))"
      ]
    },
    {
      "cell_type": "markdown",
      "id": "5b358bba",
      "metadata": {
        "papermill": {
          "duration": 0.02536,
          "end_time": "2022-12-05T15:04:33.569565",
          "exception": false,
          "start_time": "2022-12-05T15:04:33.544205",
          "status": "completed"
        },
        "tags": [],
        "id": "5b358bba"
      },
      "source": [
        "**GRADIENT BOOST**"
      ]
    },
    {
      "cell_type": "code",
      "execution_count": null,
      "id": "d9a48395",
      "metadata": {
        "execution": {
          "iopub.execute_input": "2022-12-05T15:04:33.622820Z",
          "iopub.status.busy": "2022-12-05T15:04:33.622483Z",
          "iopub.status.idle": "2022-12-05T15:04:34.137663Z",
          "shell.execute_reply": "2022-12-05T15:04:34.135743Z"
        },
        "papermill": {
          "duration": 0.54486,
          "end_time": "2022-12-05T15:04:34.140166",
          "exception": false,
          "start_time": "2022-12-05T15:04:33.595306",
          "status": "completed"
        },
        "tags": [],
        "id": "d9a48395",
        "outputId": "c106159c-8f6d-4034-de94-3bb29e672c10",
        "colab": {
          "base_uri": "https://localhost:8080/"
        }
      },
      "outputs": [
        {
          "output_type": "stream",
          "name": "stdout",
          "text": [
            "R2 score 0.8849980899429775\n",
            "MAE 0.16134462905836655\n"
          ]
        }
      ],
      "source": [
        "step1 = ColumnTransformer(transformers=[\n",
        "    ('col_tnf',OneHotEncoder(sparse=False,drop='first'),[0,1,-1,-2,-3])\n",
        "],remainder='passthrough')\n",
        "\n",
        "step2 = GradientBoostingRegressor(n_estimators=500)\n",
        "\n",
        "pipe = Pipeline([\n",
        "    ('step1',step1),\n",
        "    ('step2',step2)\n",
        "])\n",
        "\n",
        "pipe.fit(X_train,y_train)\n",
        "\n",
        "y_pred = pipe.predict(X_test)\n",
        "\n",
        "print('R2 score',r2_score(y_test,y_pred))\n",
        "print('MAE',mean_absolute_error(y_test,y_pred))"
      ]
    },
    {
      "cell_type": "markdown",
      "id": "fafe7c81",
      "metadata": {
        "papermill": {
          "duration": 0.026083,
          "end_time": "2022-12-05T15:04:34.192314",
          "exception": false,
          "start_time": "2022-12-05T15:04:34.166231",
          "status": "completed"
        },
        "tags": [],
        "id": "fafe7c81"
      },
      "source": [
        "XGBOOST"
      ]
    },
    {
      "cell_type": "code",
      "execution_count": null,
      "id": "7040575a",
      "metadata": {
        "execution": {
          "iopub.execute_input": "2022-12-05T15:04:34.245442Z",
          "iopub.status.busy": "2022-12-05T15:04:34.244856Z",
          "iopub.status.idle": "2022-12-05T15:04:34.430152Z",
          "shell.execute_reply": "2022-12-05T15:04:34.429437Z"
        },
        "papermill": {
          "duration": 0.214112,
          "end_time": "2022-12-05T15:04:34.432385",
          "exception": false,
          "start_time": "2022-12-05T15:04:34.218273",
          "status": "completed"
        },
        "tags": [],
        "id": "7040575a",
        "outputId": "b3ac462c-b138-4481-eef2-cc736f251cec",
        "colab": {
          "base_uri": "https://localhost:8080/"
        }
      },
      "outputs": [
        {
          "output_type": "stream",
          "name": "stdout",
          "text": [
            "[00:30:38] WARNING: /workspace/src/objective/regression_obj.cu:152: reg:linear is now deprecated in favor of reg:squarederror.\n",
            "R2 score 0.8841272543136018\n",
            "MAE 0.161206135374078\n"
          ]
        }
      ],
      "source": [
        "step1 = ColumnTransformer(transformers=[\n",
        "    ('col_tnf',OneHotEncoder(sparse=False,drop='first'),[0,1,-1,-2,-3])\n",
        "],remainder='passthrough')\n",
        "\n",
        "step2 = XGBRegressor(n_estimators=45,max_depth=5,learning_rate=0.5)\n",
        "\n",
        "pipe = Pipeline([\n",
        "    ('step1',step1),\n",
        "    ('step2',step2)\n",
        "])\n",
        "\n",
        "pipe.fit(X_train,y_train)\n",
        "\n",
        "y_pred = pipe.predict(X_test)\n",
        "\n",
        "print('R2 score',r2_score(y_test,y_pred))\n",
        "print('MAE',mean_absolute_error(y_test,y_pred))"
      ]
    },
    {
      "cell_type": "markdown",
      "id": "2f12f404",
      "metadata": {
        "papermill": {
          "duration": 0.026205,
          "end_time": "2022-12-05T15:04:34.485069",
          "exception": false,
          "start_time": "2022-12-05T15:04:34.458864",
          "status": "completed"
        },
        "tags": [],
        "id": "2f12f404"
      },
      "source": [
        "VOTING REGRESSOR"
      ]
    },
    {
      "cell_type": "code",
      "execution_count": null,
      "id": "5efb138b",
      "metadata": {
        "execution": {
          "iopub.execute_input": "2022-12-05T15:04:34.539881Z",
          "iopub.status.busy": "2022-12-05T15:04:34.539225Z",
          "iopub.status.idle": "2022-12-05T15:04:35.614161Z",
          "shell.execute_reply": "2022-12-05T15:04:35.612723Z"
        },
        "papermill": {
          "duration": 1.105519,
          "end_time": "2022-12-05T15:04:35.616885",
          "exception": false,
          "start_time": "2022-12-05T15:04:34.511366",
          "status": "completed"
        },
        "tags": [],
        "id": "5efb138b",
        "outputId": "f4bd08f8-02e0-47dd-8be2-2c0a2e442cac",
        "colab": {
          "base_uri": "https://localhost:8080/"
        }
      },
      "outputs": [
        {
          "output_type": "stream",
          "name": "stdout",
          "text": [
            "[00:30:39] WARNING: /workspace/src/objective/regression_obj.cu:152: reg:linear is now deprecated in favor of reg:squarederror.\n",
            "R2 score 0.8818389413970865\n",
            "MAE 0.16505451297236035\n"
          ]
        }
      ],
      "source": [
        "from sklearn.ensemble import VotingRegressor,StackingRegressor\n",
        "\n",
        "step1 = ColumnTransformer(transformers=[\n",
        "    ('col_tnf',OneHotEncoder(sparse=False,drop='first'),[0,1,-1,-2,-3])\n",
        "],remainder='passthrough')\n",
        "\n",
        "\n",
        "rf = RandomForestRegressor(n_estimators=350,random_state=3,max_samples=0.5,bootstrap=True,max_features=0.75,max_depth=15)\n",
        "gbdt = GradientBoostingRegressor(n_estimators=100,max_features=0.5)\n",
        "xgb = XGBRegressor(n_estimators=25,learning_rate=0.3,max_depth=5)\n",
        "et = ExtraTreesRegressor(n_estimators=100,random_state=3,max_samples=0.5,bootstrap=True,max_features=0.75,max_depth=10)\n",
        "\n",
        "step2 = VotingRegressor([('rf', rf), ('gbdt', gbdt), ('xgb',xgb), ('et',et)],weights=[5,1,1,1])\n",
        "\n",
        "pipe = Pipeline([\n",
        "    ('step1',step1),\n",
        "    ('step2',step2)\n",
        "])\n",
        "\n",
        "pipe.fit(X_train,y_train)\n",
        "\n",
        "y_pred = pipe.predict(X_test)\n",
        "\n",
        "print('R2 score',r2_score(y_test,y_pred))\n",
        "print('MAE',mean_absolute_error(y_test,y_pred))"
      ]
    },
    {
      "cell_type": "markdown",
      "id": "f55549fc",
      "metadata": {
        "papermill": {
          "duration": 0.027207,
          "end_time": "2022-12-05T15:04:35.671344",
          "exception": false,
          "start_time": "2022-12-05T15:04:35.644137",
          "status": "completed"
        },
        "tags": [],
        "id": "f55549fc"
      },
      "source": [
        "**STACKING**"
      ]
    },
    {
      "cell_type": "code",
      "execution_count": null,
      "id": "5664c4cf",
      "metadata": {
        "execution": {
          "iopub.execute_input": "2022-12-05T15:04:35.726323Z",
          "iopub.status.busy": "2022-12-05T15:04:35.725721Z",
          "iopub.status.idle": "2022-12-05T15:04:40.446930Z",
          "shell.execute_reply": "2022-12-05T15:04:40.446069Z"
        },
        "papermill": {
          "duration": 4.75103,
          "end_time": "2022-12-05T15:04:40.449286",
          "exception": false,
          "start_time": "2022-12-05T15:04:35.698256",
          "status": "completed"
        },
        "tags": [],
        "id": "5664c4cf",
        "outputId": "40a12d00-be5b-4a63-a4e4-cfbb5e62ad07",
        "colab": {
          "base_uri": "https://localhost:8080/"
        }
      },
      "outputs": [
        {
          "output_type": "stream",
          "name": "stdout",
          "text": [
            "[00:30:40] WARNING: /workspace/src/objective/regression_obj.cu:152: reg:linear is now deprecated in favor of reg:squarederror.\n",
            "[00:30:45] WARNING: /workspace/src/objective/regression_obj.cu:152: reg:linear is now deprecated in favor of reg:squarederror.\n",
            "[00:30:45] WARNING: /workspace/src/objective/regression_obj.cu:152: reg:linear is now deprecated in favor of reg:squarederror.\n",
            "[00:30:45] WARNING: /workspace/src/objective/regression_obj.cu:152: reg:linear is now deprecated in favor of reg:squarederror.\n",
            "[00:30:45] WARNING: /workspace/src/objective/regression_obj.cu:152: reg:linear is now deprecated in favor of reg:squarederror.\n",
            "[00:30:45] WARNING: /workspace/src/objective/regression_obj.cu:152: reg:linear is now deprecated in favor of reg:squarederror.\n",
            "R2 score 0.8756183163337437\n",
            "MAE 0.17204795084800195\n"
          ]
        }
      ],
      "source": [
        "from sklearn.ensemble import VotingRegressor,StackingRegressor\n",
        "\n",
        "step1 = ColumnTransformer(transformers=[\n",
        "    ('col_tnf',OneHotEncoder(sparse=False,drop='first'),[0,1,-1,-2,-3])\n",
        "],remainder='passthrough')\n",
        "\n",
        "\n",
        "estimators = [\n",
        "    ('rf', RandomForestRegressor(n_estimators=350,bootstrap=True,random_state=3,max_samples=0.5,max_features=0.75,max_depth=15)),\n",
        "    ('gbdt',GradientBoostingRegressor(n_estimators=100,max_features=0.5)),\n",
        "    ('xgb', XGBRegressor(n_estimators=25,learning_rate=0.3,max_depth=5))\n",
        "]\n",
        "\n",
        "step2 = StackingRegressor(estimators=estimators, final_estimator=Ridge(alpha=100))\n",
        "\n",
        "pipe = Pipeline([\n",
        "    ('step1',step1),\n",
        "    ('step2',step2)\n",
        "])\n",
        "\n",
        "pipe.fit(X_train,y_train)\n",
        "\n",
        "y_pred = pipe.predict(X_test)\n",
        "\n",
        "print('R2 score',r2_score(y_test,y_pred))\n",
        "print('MAE',mean_absolute_error(y_test,y_pred))"
      ]
    },
    {
      "cell_type": "code",
      "source": [],
      "metadata": {
        "id": "-Z7w2B1ByyUe"
      },
      "id": "-Z7w2B1ByyUe",
      "execution_count": null,
      "outputs": []
    }
  ],
  "metadata": {
    "kernelspec": {
      "display_name": "Python 3",
      "language": "python",
      "name": "python3"
    },
    "language_info": {
      "codemirror_mode": {
        "name": "ipython",
        "version": 3
      },
      "file_extension": ".py",
      "mimetype": "text/x-python",
      "name": "python",
      "nbconvert_exporter": "python",
      "pygments_lexer": "ipython3",
      "version": "3.7.12"
    },
    "papermill": {
      "default_parameters": {},
      "duration": 29.207568,
      "end_time": "2022-12-05T15:04:41.296287",
      "environment_variables": {},
      "exception": null,
      "input_path": "__notebook__.ipynb",
      "output_path": "__notebook__.ipynb",
      "parameters": {},
      "start_time": "2022-12-05T15:04:12.088719",
      "version": "2.3.4"
    },
    "colab": {
      "provenance": []
    }
  },
  "nbformat": 4,
  "nbformat_minor": 5
}